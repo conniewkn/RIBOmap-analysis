{
 "cells": [
  {
   "cell_type": "markdown",
   "id": "chief-arlington",
   "metadata": {},
   "source": [
    "# Quality assessment & Generate H5AD Input"
   ]
  },
  {
   "cell_type": "markdown",
   "id": "incomplete-spirituality",
   "metadata": {},
   "source": [
    "2021-11-12"
   ]
  },
  {
   "cell_type": "code",
   "execution_count": null,
   "id": "swiss-physiology",
   "metadata": {},
   "outputs": [],
   "source": [
    "# Import Packages\n",
    "\n",
    "%load_ext autoreload\n",
    "%autoreload 2\n",
    "\n",
    "import os\n",
    "import warnings \n",
    "warnings.filterwarnings('ignore')\n",
    "import numpy as np\n",
    "import pandas as pd\n",
    "import scanpy as sc\n",
    "import seaborn as sns\n",
    "import matplotlib.pyplot as plt\n",
    "from anndata import AnnData\n",
    "\n",
    "# Customized packages\n",
    "import starmap.sc_util as su\n",
    "\n",
    "# test()"
   ]
  },
  {
   "cell_type": "markdown",
   "id": "reverse-sydney",
   "metadata": {
    "tags": []
   },
   "source": [
    "## RIBOmap"
   ]
  },
  {
   "cell_type": "markdown",
   "id": "27385ff5-ae66-42d0-acdf-38a5ad3b411c",
   "metadata": {},
   "source": [
    "### Input"
   ]
  },
  {
   "cell_type": "code",
   "execution_count": null,
   "id": "fccef061-f03e-43a9-a928-e24bb8f0c82c",
   "metadata": {},
   "outputs": [],
   "source": [
    "# Set path\n",
    "base_path = 'Z:/Data/Analyzed/2021-11-23-Hu-MouseBrain/'\n",
    "\n",
    "out_path = os.path.join(base_path, 'output')\n",
    "if not os.path.exists(out_path):\n",
    "    os.mkdir(out_path)\n",
    "    \n",
    "fig_path = os.path.join(base_path, 'figures')\n",
    "if not os.path.exists(fig_path):\n",
    "    os.mkdir(fig_path)\n",
    "\n",
    "sc.settings.figdir = fig_path"
   ]
  },
  {
   "cell_type": "code",
   "execution_count": null,
   "id": "53e145e9-52d2-4b4c-8239-6f01635cd543",
   "metadata": {},
   "outputs": [],
   "source": [
    "# expr_path = os.path.join(out_path, 'expr/cell_barcode_count.csv')\n",
    "# var_path = os.path.join(out_path, 'expr/cell_barcode_names.csv')\n",
    "# obs_path = os.path.join(out_path, 'expr/meta.csv')\n",
    "\n",
    "# # add expression data to the AnnData object \n",
    "# expr_x = np.loadtxt(expr_path, delimiter=',')\n",
    "# var = pd.read_csv(var_path, header=None)\n",
    "# var = pd.DataFrame(index=var.iloc[:,2].to_list())\n",
    "# obs = pd.read_csv(obs_path, index_col=0)\n",
    "\n",
    "# rdata = AnnData(X=expr_x, var=var, obs=obs)"
   ]
  },
  {
   "cell_type": "code",
   "execution_count": null,
   "id": "0dcfb5c1-5f98-48d9-9193-a39c4dd7ed74",
   "metadata": {},
   "outputs": [],
   "source": [
    "rdata = sc.read_h5ad(os.path.join(base_path, 'RIBOmap', '2022-03-11-RIBOmap-raw.h5ad'))\n",
    "rdata.obs['protocol'] = 'RIBOmap'"
   ]
  },
  {
   "cell_type": "code",
   "execution_count": null,
   "id": "5ba97ccf-497b-4bef-aa44-10ede0900c16",
   "metadata": {},
   "outputs": [],
   "source": [
    "rdata"
   ]
  },
  {
   "cell_type": "markdown",
   "id": "reflected-blade",
   "metadata": {},
   "source": [
    "### QC"
   ]
  },
  {
   "cell_type": "code",
   "execution_count": null,
   "id": "cd66ca9a-b0ea-4d2a-a9c4-a48d5323121a",
   "metadata": {},
   "outputs": [],
   "source": [
    "# Plot top 20 most expressed genes (before qc)\n",
    "sc.pl.highest_expr_genes(rdata, n_top=20)"
   ]
  },
  {
   "cell_type": "code",
   "execution_count": null,
   "id": "09957c3c-2b98-4289-97bb-b6af258959d2",
   "metadata": {},
   "outputs": [],
   "source": [
    "# Calculate QC metrics\n",
    "sc.pp.calculate_qc_metrics(rdata, percent_top=None, inplace=True)\n",
    "# Calculate max count for each gene\n",
    "rdata.var['max_counts'] = rdata.X.max(axis=0)"
   ]
  },
  {
   "cell_type": "code",
   "execution_count": null,
   "id": "e295b1bb-34f8-4af3-9cb2-124b34db11a2",
   "metadata": {},
   "outputs": [],
   "source": [
    "# Total counts describe statistics\n",
    "rdata.obs['total_counts'].describe()"
   ]
  },
  {
   "cell_type": "code",
   "execution_count": null,
   "id": "8f698b2d-52d1-47b5-a33b-04dd8a01df98",
   "metadata": {},
   "outputs": [],
   "source": [
    "rdata.obs['log1p_total_counts'].describe()"
   ]
  },
  {
   "cell_type": "code",
   "execution_count": null,
   "id": "b37addb9-c765-415a-b203-087943ca1e09",
   "metadata": {},
   "outputs": [],
   "source": [
    "from scipy import stats\n",
    "n = 4\n",
    "mad = stats.median_absolute_deviation(rdata.obs['log1p_total_counts'], scale=1)\n",
    "lower_bd = rdata.obs['log1p_total_counts'].median() - n*mad\n",
    "upper_bd = rdata.obs['log1p_total_counts'].median() + n*mad\n",
    "print(lower_bd)\n",
    "print(upper_bd)\n",
    "print(np.expm1(lower_bd))\n",
    "print(np.expm1(upper_bd))"
   ]
  },
  {
   "cell_type": "code",
   "execution_count": null,
   "id": "f095779a-a59f-45b1-b873-1d08c28f3986",
   "metadata": {},
   "outputs": [],
   "source": [
    "sns.histplot(rdata.obs['log1p_total_counts'])\n",
    "plt.axvline(lower_bd, c='r')\n",
    "plt.axvline(upper_bd, c='r')\n",
    "plt.show()"
   ]
  },
  {
   "cell_type": "code",
   "execution_count": null,
   "id": "dc41a9bc-537b-409a-b93b-ca47aaabde5b",
   "metadata": {},
   "outputs": [],
   "source": [
    "# Total counts describe statistics\n",
    "rdata.var['total_counts'].describe()"
   ]
  },
  {
   "cell_type": "code",
   "execution_count": null,
   "id": "125f47c2-c422-4ab2-9e2b-fe83ca7eaaea",
   "metadata": {},
   "outputs": [],
   "source": [
    "# max counts describe statistics\n",
    "rdata.var['max_counts'].describe()"
   ]
  },
  {
   "cell_type": "code",
   "execution_count": null,
   "id": "e1efca6d-d8c3-482a-b913-4fcf4ce0da6f",
   "metadata": {},
   "outputs": [],
   "source": [
    "# Per-cell Stats Plot\n",
    "\n",
    "su.plot_stats_per_cell(rdata, color='protocol', save=False)"
   ]
  },
  {
   "cell_type": "code",
   "execution_count": null,
   "id": "lightweight-extent",
   "metadata": {},
   "outputs": [],
   "source": [
    "# sc.pl.violin(rdata, ['total_counts', 'n_genes_by_counts', 'area'],\n",
    "#              jitter=0.4, multi_panel=True, log=True)"
   ]
  },
  {
   "cell_type": "code",
   "execution_count": null,
   "id": "improving-anthony",
   "metadata": {},
   "outputs": [],
   "source": [
    "# Get quantiles of reads\n",
    "su.show_reads_quantile(rdata)"
   ]
  },
  {
   "cell_type": "markdown",
   "id": "3712fbc3-eeb8-4c32-b0eb-90c5232b4709",
   "metadata": {},
   "source": [
    "### Filtration"
   ]
  },
  {
   "cell_type": "code",
   "execution_count": null,
   "id": "faebc7d7-6a87-4b21-b663-e456e029e706",
   "metadata": {},
   "outputs": [],
   "source": [
    "# Filter gene by max counts \n",
    "rdata.var['detected'] = rdata.var['max_counts'] > 2\n",
    "rdata.var['highly_variable'] = rdata.var['max_counts'] > 2\n",
    "print(rdata.var['detected'].sum())"
   ]
  },
  {
   "cell_type": "code",
   "execution_count": null,
   "id": "0481562d-a5e8-4005-ba6a-fb210a5250b8",
   "metadata": {},
   "outputs": [],
   "source": [
    "# Filtration \n",
    "sc.pp.filter_cells(rdata, min_genes=10)\n",
    "sc.pp.filter_genes(rdata, min_cells=10)\n",
    "\n",
    "# # Filter gene by max counts \n",
    "# adata = adata[:, adata.var['max_counts'] > 2]\n",
    "\n",
    "sc.pp.filter_cells(rdata, min_counts=np.expm1(lower_bd))\n",
    "sc.pp.filter_cells(rdata, max_counts=np.expm1(upper_bd))\n",
    "\n",
    "rdata.layers['raw'] = rdata.X\n",
    "rdata.X.shape"
   ]
  },
  {
   "cell_type": "code",
   "execution_count": null,
   "id": "36095377-9349-4ee2-a33b-cc54192940e2",
   "metadata": {},
   "outputs": [],
   "source": [
    "# Per-cell Stats Plot\n",
    "\n",
    "su.plot_stats_per_cell(rdata, color='protocol', save=False)"
   ]
  },
  {
   "cell_type": "markdown",
   "id": "cordless-guarantee",
   "metadata": {},
   "source": [
    "### Output"
   ]
  },
  {
   "cell_type": "code",
   "execution_count": null,
   "id": "front-resolution",
   "metadata": {},
   "outputs": [],
   "source": [
    "from datetime import datetime\n",
    "date = datetime.today().strftime('%Y-%m-%d')\n",
    "rdata.write_h5ad(f\"{out_path}/{date}-Hu-TissueRIBOmap-{n}mad-filtered.h5ad\")"
   ]
  }
 ],
 "metadata": {
  "kernelspec": {
   "display_name": "Python 3 (ipykernel)",
   "language": "python",
   "name": "python3"
  },
  "language_info": {
   "codemirror_mode": {
    "name": "ipython",
    "version": 3
   },
   "file_extension": ".py",
   "mimetype": "text/x-python",
   "name": "python",
   "nbconvert_exporter": "python",
   "pygments_lexer": "ipython3",
   "version": "3.8.12"
  }
 },
 "nbformat": 4,
 "nbformat_minor": 5
}
