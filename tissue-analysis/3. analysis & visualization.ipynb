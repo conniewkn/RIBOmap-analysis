{
 "cells": [
  {
   "cell_type": "markdown",
   "id": "462a0ba7-f7df-438d-b814-401cabc8a4bd",
   "metadata": {},
   "source": [
    "# Analysis & Visualization"
   ]
  },
  {
   "cell_type": "code",
   "execution_count": null,
   "id": "6f72d2a7-b64b-4f14-9173-c46acf195f9d",
   "metadata": {},
   "outputs": [],
   "source": [
    "# Import Packages\n",
    "\n",
    "%load_ext autoreload\n",
    "%autoreload 2\n",
    "\n",
    "import os\n",
    "import warnings \n",
    "warnings.filterwarnings('ignore')\n",
    "import numpy as np\n",
    "import pandas as pd\n",
    "import scanpy as sc\n",
    "import seaborn as sns\n",
    "import matplotlib.pyplot as plt\n",
    "from skimage.filters import threshold_otsu, gaussian\n",
    "from skimage.morphology import remove_small_objects\n",
    "from matplotlib.colors import ListedColormap, LinearSegmentedColormap\n",
    "from anndata import AnnData, concat\n",
    "from tqdm.notebook import tqdm\n",
    "\n",
    "# Customized packages\n",
    "from starmap.utilities import *\n",
    "from starmap.sequencing import *\n",
    "# from starmap.obj import STARMapDataset, load_data\n",
    "# import starmap.analyze as anz\n",
    "# import starmap.viz as viz\n",
    "\n",
    "import starmap.sc_util as su\n",
    "\n",
    "# test()"
   ]
  },
  {
   "cell_type": "code",
   "execution_count": null,
   "id": "31fbdff0-e0de-402c-a63c-e5af6534bffa",
   "metadata": {
    "tags": []
   },
   "outputs": [],
   "source": [
    "# Get functions \n",
    "\n",
    "import colorsys\n",
    "from random import shuffle\n",
    "\n",
    "def intervals(parts, start_point, end_point):\n",
    "    duration = end_point - start_point\n",
    "    part_duration = duration / parts\n",
    "    return [((i * part_duration + (i + 1) * part_duration)/2) + start_point for i in range(parts)]"
   ]
  },
  {
   "cell_type": "markdown",
   "id": "2a8ca9f1-18c1-4ee2-8832-6e14583ef8b8",
   "metadata": {
    "tags": []
   },
   "source": [
    "## IO"
   ]
  },
  {
   "cell_type": "code",
   "execution_count": null,
   "id": "4e333b29-cc5c-4f5f-8470-d7739e65aa58",
   "metadata": {},
   "outputs": [],
   "source": [
    "# Set path\n",
    "base_path = 'Z:/Data/Analyzed/2021-11-23-Hu-MouseBrain/'\n",
    "out_path = os.path.join(base_path, 'output')\n",
    "fig_path = os.path.join(base_path, 'figures')\n",
    "\n",
    "out_path = os.path.join(base_path, 'output')\n",
    "if not os.path.exists(out_path):\n",
    "    os.mkdir(out_path)\n",
    "    \n",
    "fig_path = os.path.join(base_path, 'figures')\n",
    "if not os.path.exists(fig_path):\n",
    "    os.mkdir(fig_path)"
   ]
  },
  {
   "cell_type": "code",
   "execution_count": null,
   "id": "1e84dc07-deb5-49e2-85a8-8fba6c769f0d",
   "metadata": {},
   "outputs": [],
   "source": [
    "from datetime import datetime\n",
    "date = datetime.today().strftime('%Y-%m-%d')"
   ]
  },
  {
   "cell_type": "code",
   "execution_count": null,
   "id": "45a16523-9ae3-4f7f-84b1-32f1ba825df2",
   "metadata": {},
   "outputs": [],
   "source": [
    "sc.settings.figdir = fig_path\n",
    "sc.set_figure_params(format='tif', dpi=150)"
   ]
  },
  {
   "cell_type": "code",
   "execution_count": null,
   "id": "41758c75-55e4-4ee1-b458-89feeab7a209",
   "metadata": {},
   "outputs": [],
   "source": [
    "import matplotlib\n",
    "matplotlib.rcParams['pdf.fonttype'] = 42"
   ]
  },
  {
   "cell_type": "markdown",
   "id": "a35ab093-2718-455b-b562-34fda64efe96",
   "metadata": {},
   "source": [
    "## Input"
   ]
  },
  {
   "cell_type": "code",
   "execution_count": null,
   "id": "eab7b245-5808-4eed-be06-0c68e841e66d",
   "metadata": {},
   "outputs": [],
   "source": [
    "# Load new data\n",
    "adata = sc.read_h5ad(os.path.join(out_path, '2022-04-24-Hu-TissueRIBOmap-level3.h5ad'))\n",
    "adata"
   ]
  },
  {
   "cell_type": "markdown",
   "id": "368f9e78-c84a-43ce-b4c8-f3432097bfe5",
   "metadata": {},
   "source": [
    "## QC"
   ]
  },
  {
   "cell_type": "code",
   "execution_count": null,
   "id": "b008dbd8-e5bf-4997-8430-9b37226449ef",
   "metadata": {},
   "outputs": [],
   "source": [
    "rdata = sc.read_h5ad(os.path.join(base_path, 'RIBOmap', '2022-03-11-RIBOmap-raw.h5ad'))\n",
    "rdata.obs['protocol'] = 'RIBOmap'\n",
    "\n",
    "# Calculate QC metrics\n",
    "sc.pp.calculate_qc_metrics(rdata, percent_top=None, inplace=True)\n",
    "# Calculate max count for each gene\n",
    "rdata.var['max_counts'] = rdata.X.max(axis=0)"
   ]
  },
  {
   "cell_type": "code",
   "execution_count": null,
   "id": "1bcf53b2-2a50-4562-9328-1fd14d2e51dd",
   "metadata": {},
   "outputs": [],
   "source": [
    "from scipy import stats\n",
    "n = 4\n",
    "mad = stats.median_absolute_deviation(rdata.obs['log1p_total_counts'], scale=1)\n",
    "lower_bd = rdata.obs['log1p_total_counts'].median() - n*mad\n",
    "upper_bd = rdata.obs['log1p_total_counts'].median() + n*mad\n",
    "print(lower_bd)\n",
    "print(upper_bd)\n",
    "print(np.expm1(lower_bd))\n",
    "\n",
    "print(np.expm1(upper_bd))"
   ]
  },
  {
   "cell_type": "code",
   "execution_count": null,
   "id": "05fb0936-78b5-4888-ae77-d8658b5c450e",
   "metadata": {},
   "outputs": [],
   "source": [
    "sns.reset_orig()\n",
    "fig, axs = plt.subplots(nrows=1, ncols=3, figsize=(20, 5))\n",
    "\n",
    "sns.histplot(rdata.obs['total_counts'], bins=100, ax=axs[0])\n",
    "median_counts = rdata.obs['total_counts'].median()\n",
    "axs[0].axvline(median_counts, c='r')\n",
    "axs[0].set_title(f'Median: {median_counts}')\n",
    "\n",
    "sns.histplot(rdata.obs['n_genes_by_counts'], bins=100, ax=axs[1])\n",
    "median_genes = rdata.obs['n_genes_by_counts'].median()\n",
    "axs[1].axvline(median_genes, c='r')\n",
    "axs[1].set_title(f'Median: {median_genes}')\n",
    "\n",
    "sns.histplot(rdata.obs['log1p_total_counts'], bins=100, ax=axs[2])\n",
    "axs[2].axvline(lower_bd, c='r')\n",
    "axs[2].axvline(upper_bd, c='r')\n",
    "axs[2].set_title(f'LB: {lower_bd}, UB: {upper_bd}')\n",
    "\n",
    "# plt.savefig(os.path.join(fig_path, 'qc_histogram_3col.pdf'))\n",
    "plt.show()"
   ]
  },
  {
   "cell_type": "code",
   "execution_count": null,
   "id": "c64e745e-eaa8-4b05-9614-8644cd4016a9",
   "metadata": {},
   "outputs": [],
   "source": [
    "sns.reset_orig()\n",
    "fig, axs = plt.subplots(nrows=1, ncols=2, figsize=(13, 5))\n",
    "\n",
    "sns.histplot(rdata.obs['total_counts'], bins=50, ax=axs[0])\n",
    "median_counts = rdata.obs['total_counts'].median()\n",
    "axs[0].axvline(median_counts, c='r')\n",
    "axs[0].set_title(f'Median: {median_counts}')\n",
    "\n",
    "sns.histplot(rdata.obs['n_genes_by_counts'], bins=50, ax=axs[1])\n",
    "median_genes = rdata.obs['n_genes_by_counts'].median()\n",
    "axs[1].axvline(median_genes, c='r')\n",
    "axs[1].set_title(f'Median: {median_genes}')\n",
    "\n",
    "# plt.savefig(os.path.join(fig_path, 'qc_histogram_2col.pdf'))\n",
    "plt.show()"
   ]
  },
  {
   "cell_type": "code",
   "execution_count": null,
   "id": "1bf51b2b-cbe0-4caa-ae5a-fbaeac04a332",
   "metadata": {},
   "outputs": [],
   "source": [
    "sns.reset_orig()\n",
    "fig, axs = plt.subplots(nrows=1, ncols=2, figsize=(13, 5))\n",
    "\n",
    "sns.histplot(rdata.obs['log1p_total_counts'], bins=100, ax=axs[0])\n",
    "axs[0].axvline(lower_bd, c='r')\n",
    "axs[0].axvline(upper_bd, c='r')\n",
    "axs[0].set_title(f'LB: {lower_bd}, UB: {upper_bd}')\n",
    "\n",
    "sns.histplot(rdata.obs['log1p_n_genes_by_counts'], bins=100, ax=axs[1])\n",
    "\n",
    "plt.savefig(os.path.join(fig_path, 'qc_histogram_2col.pdf'))\n",
    "plt.show()"
   ]
  },
  {
   "cell_type": "markdown",
   "id": "b3fd41f6-14ab-4c65-8b14-0c890c0de8aa",
   "metadata": {},
   "source": [
    "## Level_1"
   ]
  },
  {
   "cell_type": "markdown",
   "id": "3bc0e059-fddd-4691-aab7-615a9b6380e9",
   "metadata": {},
   "source": [
    "### embedding"
   ]
  },
  {
   "cell_type": "code",
   "execution_count": null,
   "id": "603e1ada-50ca-447b-b4f5-4fbfd811ce06",
   "metadata": {},
   "outputs": [],
   "source": [
    "# Run PCA\n",
    "sc.tl.pca(adata, svd_solver='arpack', use_highly_variable=True)\n",
    "\n",
    "# Plot explained variance \n",
    "sc.pl.pca_variance_ratio(adata, log=False)"
   ]
  },
  {
   "cell_type": "code",
   "execution_count": null,
   "id": "2455f5fa-d5d9-4a73-8132-e00bfdb99240",
   "metadata": {},
   "outputs": [],
   "source": [
    "%%time\n",
    "# Computing the neighborhood graph\n",
    "n_neighbors = 50\n",
    "n_pcs = 30 ## 30\n",
    "min_dist = 0.15 ## 0.05\n",
    "\n",
    "sc.pp.neighbors(adata, n_neighbors=n_neighbors, n_pcs=n_pcs)\n",
    "\n",
    "# Run UMAP\n",
    "sc.tl.umap(adata, min_dist=min_dist, random_state=0, spread=1) ## 0.5 1"
   ]
  },
  {
   "cell_type": "code",
   "execution_count": null,
   "id": "bfe77452-2689-4982-9336-65f6f11fb057",
   "metadata": {},
   "outputs": [],
   "source": [
    "# Save log\n",
    "with open(f'{fig_path}/log_level_1.txt', 'w') as f:\n",
    "    f.write(f\"\"\"Number of neighbor: {n_neighbors}\n",
    "Number of PC: {n_pcs}\n",
    "Min-distance: {min_dist}\"\"\")\n",
    "    \n",
    "# save embeddings\n",
    "np.savetxt(f'{fig_path}/embedding_level_1_umap.csv', adata.obsm['X_umap'], delimiter=\",\")"
   ]
  },
  {
   "cell_type": "code",
   "execution_count": null,
   "id": "c05ce4cd-c116-4586-b0d6-38750d5be989",
   "metadata": {},
   "outputs": [],
   "source": [
    "# Plot single meta UMAP\n",
    "sc.pl.umap(adata, color='protocol')\n",
    "fig, ax = plt.subplots(figsize=(7,5))\n",
    "sc.pl.umap(adata, color='total_counts', save='_total_counts', ax=ax)\n",
    "\n",
    "fig, ax = plt.subplots(figsize=(7,5))\n",
    "sc.pl.umap(adata, color='n_genes', save='_n_genes', ax=ax)"
   ]
  },
  {
   "cell_type": "code",
   "execution_count": null,
   "id": "a78aec28-c6da-4d45-b2fc-46e9908dbf3a",
   "metadata": {},
   "outputs": [],
   "source": [
    "# Get colormap\n",
    "# level_1_colors = ['', '']\n",
    "# level_1_pl = sns.color_palette(\"hls\", adata.obs['level_1'].nunique())\n",
    "level_1_pl = sns.color_palette(adata.uns['level_1_colors'])\n",
    "level_1_cmap = ListedColormap(level_1_pl.as_hex())\n",
    "sns.palplot(level_1_pl)"
   ]
  },
  {
   "cell_type": "code",
   "execution_count": null,
   "id": "231e989f-b74c-43a0-b787-fc72d2a66a9b",
   "metadata": {},
   "outputs": [],
   "source": [
    "# Save plots\n",
    "# Plot UMAP with cluster labels w/ new color\n",
    "sc.pl.umap(adata, color='level_1', legend_loc='on data',\n",
    "           legend_fontsize=12, legend_fontoutline=2, frameon=False, \n",
    "           title='Level 1 clustering', palette=level_1_pl, save=False)"
   ]
  },
  {
   "cell_type": "code",
   "execution_count": null,
   "id": "828993c9-563f-4847-98bd-9cc8aaa6f6f7",
   "metadata": {},
   "outputs": [],
   "source": [
    "adata.uns['level_1_color_list'] = adata.uns['level_1_colors']\n",
    "adata.uns['level_1_order'] = ['Neuron', 'Glia']"
   ]
  },
  {
   "cell_type": "code",
   "execution_count": null,
   "id": "d68b351e-581d-4d87-92ca-6306ad31d140",
   "metadata": {},
   "outputs": [],
   "source": [
    "sc.set_figure_params(format='pdf', dpi=150)\n",
    "\n",
    "fig, ax = plt.subplots(figsize=(10, 7))\n",
    "sc.pl.umap(adata, color='level_1', frameon=False, legend_loc=False, ax=ax, title='', size=10, alpha=.5,\n",
    "           palette=level_1_pl, save='_level_1_no_legend_larger')"
   ]
  },
  {
   "cell_type": "code",
   "execution_count": null,
   "id": "0d63d472-a840-43ec-ac5e-562c84d0fdce",
   "metadata": {},
   "outputs": [],
   "source": [
    "sc.set_figure_params(format='pdf', dpi=150)\n",
    "\n",
    "fig, ax = plt.subplots(figsize=(10, 7))\n",
    "sc.pl.umap(adata, color='level_1', frameon=False, legend_loc=False, ax=ax, title='',\n",
    "           palette=level_1_pl, save='_level_1_no_legend')\n",
    "\n",
    "fig, ax = plt.subplots(figsize=(10, 7))\n",
    "sc.pl.umap(adata, color='level_1', frameon=False, legend_loc='right margin', ax=ax, title='',\n",
    "           palette=level_1_pl, save='_level_1_legend')"
   ]
  },
  {
   "cell_type": "markdown",
   "id": "8991f481-d594-4334-a31b-4f7efbc6a929",
   "metadata": {},
   "source": [
    "### gene markers"
   ]
  },
  {
   "cell_type": "code",
   "execution_count": null,
   "id": "6873744b-f44e-47d7-8776-069cecd36441",
   "metadata": {},
   "outputs": [],
   "source": [
    "# Get markers for each cluster\n",
    "sc.tl.rank_genes_groups(adata, 'level_1', method='wilcoxon', pts=True)\n",
    "\n",
    "# Filter markers\n",
    "sc.tl.filter_rank_genes_groups(adata, min_fold_change=1)"
   ]
  },
  {
   "cell_type": "code",
   "execution_count": null,
   "id": "8510ec9a-1eef-42cc-871d-0dfb449bc985",
   "metadata": {},
   "outputs": [],
   "source": [
    "current_group = 'Glia'\n",
    "\n",
    "current_df = sc.get.rank_genes_groups_df(adata, group=current_group, key='rank_genes_groups')\n",
    "current_df.head(10)"
   ]
  },
  {
   "cell_type": "code",
   "execution_count": null,
   "id": "b4ece9d8-320c-40d7-82d2-e687de030db8",
   "metadata": {},
   "outputs": [],
   "source": [
    "# Dot plot mean expression (##)\n",
    "sc.pl.rank_genes_groups_dotplot(adata, key='rank_genes_groups_filtered', n_genes=15, dendrogram=False)"
   ]
  },
  {
   "cell_type": "code",
   "execution_count": null,
   "id": "1881857d-e81c-4b4b-b9a8-c9a44359af88",
   "metadata": {},
   "outputs": [],
   "source": [
    "# Other type of plots\n",
    "# Plot z-score heatmap\n",
    "sc.pl.rank_genes_groups_heatmap(adata, n_genes=15, groupby='level_1', min_logfoldchange=1, use_raw=False, swap_axes=True, \n",
    "                                vmin=-5, vmax=5, cmap='bwr', show_gene_labels=True,\n",
    "                                dendrogram=False, figsize=(30, 20), save=False)\n",
    "\n",
    "sc.pl.rank_genes_groups_heatmap(adata, n_genes=15, groupby='level_1', min_logfoldchange=1, use_raw=False, swap_axes=True, \n",
    "                                vmin=-5, vmax=5, cmap='bwr', show_gene_labels=True, key='rank_genes_groups_filtered', \n",
    "                                dendrogram=False, figsize=(30, 20), save=False)"
   ]
  },
  {
   "cell_type": "code",
   "execution_count": null,
   "id": "3f17595d-eca1-41cb-a81a-8a0b845f0cec",
   "metadata": {
    "tags": []
   },
   "outputs": [],
   "source": [
    "# gene_list = ['Slc17a7', 'Gad1', 'Gad2', 'Sst', 'Pvalb', 'Slc1a3', 'Aqp4', 'Gja1', 'Ctss', 'Plp1', 'Mobp', 'Pdgfra', 'Dcn', 'Myh9', 'Vtn']\n",
    "gene_list = ['Slc17a7', 'Gad1', 'Sst', 'Pvalb', 'Slc1a3', 'Aqp4', 'Ctss', 'Plp1', 'Mobp', 'Pdgfra', 'Dcn', 'Vtn']\n",
    "\n",
    "fig, axs = plt.subplots(nrows=3, ncols=4, figsize=(20, 10))\n",
    "axs = axs.flatten()\n",
    "for i, gene in enumerate(gene_list):\n",
    "    ax = sc.pl.umap(adata, color=gene, title=gene, ax=axs[i], show=False)\n",
    "    \n",
    "plt.tight_layout(pad=0)\n",
    "plt.savefig(os.path.join(fig_path, 'markers_on_umap.pdf'))\n",
    "plt.show()"
   ]
  },
  {
   "cell_type": "code",
   "execution_count": null,
   "id": "c88c686a-8e6b-4dfe-bcaa-3647a022e3f5",
   "metadata": {},
   "outputs": [],
   "source": [
    "sc.set_figure_params(format='pdf', dpi=150)\n",
    "sc.pl.rank_genes_groups_heatmap(adata, n_genes=30, groupby='level_1', min_logfoldchange=1, use_raw=False, swap_axes=True, \n",
    "                                vmin=-5, vmax=5, cmap='bwr', show_gene_labels=True, key='rank_genes_groups', \n",
    "                                dendrogram=False, figsize=(30, 20), save='_level_1')"
   ]
  },
  {
   "cell_type": "code",
   "execution_count": null,
   "id": "3e01701a-ba22-4d04-a0ec-4648f1548c25",
   "metadata": {},
   "outputs": [],
   "source": [
    "marker_df = sc.get.rank_genes_groups_df(adata, group=['Neuron', 'Glia'], key='rank_genes_groups', log2fc_min=1)\n",
    "marker_df.to_csv(f'{fig_path}/markers_level_1.csv')"
   ]
  },
  {
   "cell_type": "markdown",
   "id": "f86792b1-2c61-4085-83ec-936f9bace452",
   "metadata": {},
   "source": [
    "### spatial map"
   ]
  },
  {
   "cell_type": "code",
   "execution_count": null,
   "id": "1690b35d-c134-42cf-8233-05826c3297f4",
   "metadata": {
    "tags": []
   },
   "outputs": [],
   "source": [
    "fig, ax = plt.subplots(figsize=(10, 10))\n",
    "sns.scatterplot(x='column', y='row', data=adata.obs, color='#1111', s=2, legend=False, ax=ax)\n",
    "sns.scatterplot(x='column', y='row', hue='level_1', data=adata.obs, palette=level_1_pl, s=2, legend=False, ax=ax)\n",
    "ax.axis('off')\n",
    "plt.show()"
   ]
  },
  {
   "cell_type": "code",
   "execution_count": null,
   "id": "291906d5-5d60-40f8-a30f-7b5a5e61d46c",
   "metadata": {},
   "outputs": [],
   "source": [
    "for current_group in adata.obs['level_1'].cat.categories:\n",
    "    \n",
    "    # Plot single cluster\n",
    "    fig, ax = plt.subplots(figsize=(10, 10))\n",
    "    sns.scatterplot(x='column', y='row', data=adata.obs, color='#d4d4d4', s=2, legend=False, ax=ax)\n",
    "    sns.scatterplot(x='column', y='row', hue='level_1', data=adata.obs.loc[adata.obs['level_1'] == current_group, :], palette=level_1_pl, s=4, legend=False, ax=ax)\n",
    "    ax.title.set_text(current_group)\n",
    "    ax.axis('off')\n",
    "    plt.show()"
   ]
  },
  {
   "cell_type": "markdown",
   "id": "0117bad7-3fd3-46fe-b49a-e363205825be",
   "metadata": {},
   "source": [
    "## Level 2"
   ]
  },
  {
   "cell_type": "markdown",
   "id": "d988869a-7075-4afc-96a3-9e8237a7d22f",
   "metadata": {},
   "source": [
    "### embedding"
   ]
  },
  {
   "cell_type": "code",
   "execution_count": null,
   "id": "ab1b4cbe-1b14-4c71-8897-145fbb5e9050",
   "metadata": {},
   "outputs": [],
   "source": [
    "level_2_colors_dict = {\n",
    "\n",
    "    'Excitatory neuron': '#75db57', \n",
    "    'Inhibitory neuron': '#db5f57', \n",
    "    'Astrocyte': '#dbd057', \n",
    "    'Oligodendrocyte': '#57dbdb', \n",
    "    'Oligodendrocytes precursor cell': '#667872', \n",
    "    'Microglia': '#8597c6', \n",
    "    'Vascular cell': '#5e0737', \n",
    "    'Unknown': '#cccccc',\n",
    "    \n",
    "}"
   ]
  },
  {
   "cell_type": "code",
   "execution_count": null,
   "id": "75796479-c449-42c1-954c-d536b969f3c2",
   "metadata": {},
   "outputs": [],
   "source": [
    "level_2_colors = list(level_2_colors_dict.values())\n",
    "level_2_pl = sns.color_palette(level_2_colors)\n",
    "level_2_cmap = ListedColormap(level_2_pl.as_hex())\n",
    "\n",
    "level_2_order = list(level_2_colors_dict.keys())\n",
    "sns.palplot(level_2_pl)\n",
    "plt.xticks(range(len(level_2_order)), level_2_order, size=10, rotation=45)\n",
    "plt.tight_layout()\n",
    "plt.show()"
   ]
  },
  {
   "cell_type": "code",
   "execution_count": null,
   "id": "a772d8b3-5f07-4bc1-8766-1c65091e81f5",
   "metadata": {},
   "outputs": [],
   "source": [
    "adata.uns['level_2_color_list'] = level_2_colors\n",
    "adata.uns['level_2_order'] = level_2_order"
   ]
  },
  {
   "cell_type": "code",
   "execution_count": null,
   "id": "22261f25-7244-4e0a-a0e6-f3da32199e10",
   "metadata": {},
   "outputs": [],
   "source": [
    "fig, ax = plt.subplots(figsize=(10, 7))\n",
    "sc.pl.umap(adata, color='level_2', frameon=False, legend_loc=False, ax=ax, title='', size=10, alpha=.5,\n",
    "           palette=level_2_pl, save='_level_2_no_legend_larger')"
   ]
  },
  {
   "cell_type": "code",
   "execution_count": null,
   "id": "841ec028-d738-40c0-aa10-8dc231d8c816",
   "metadata": {},
   "outputs": [],
   "source": [
    "fig, ax = plt.subplots(figsize=(10, 7))\n",
    "sc.pl.umap(adata, color='level_2', frameon=False, legend_loc=False, ax=ax, title='',\n",
    "           palette=level_2_pl, save='_level_2_no_legend')\n",
    "\n",
    "sc.set_figure_params(format='pdf', dpi=150)\n",
    "fig, ax = plt.subplots(figsize=(10, 7))\n",
    "sc.pl.umap(adata, color='level_2', frameon=False, legend_loc='right margin', ax=ax, title='',\n",
    "           palette=level_2_pl, save='_level_2_legend')"
   ]
  },
  {
   "cell_type": "markdown",
   "id": "74833eb8-116e-40ac-b464-6807d9a2a91e",
   "metadata": {},
   "source": [
    "### gene markers"
   ]
  },
  {
   "cell_type": "code",
   "execution_count": null,
   "id": "0c4f74af-9c2a-449d-88c0-bbbef05e3553",
   "metadata": {},
   "outputs": [],
   "source": [
    "adata.raw.X.max()"
   ]
  },
  {
   "cell_type": "code",
   "execution_count": null,
   "id": "9120fb62-01bc-4a06-9fbe-8ad7af8b3db8",
   "metadata": {},
   "outputs": [],
   "source": [
    "# Get markers for each cluster\n",
    "sc.tl.rank_genes_groups(adata, 'level_2', method='wilcoxon', pts=True)\n",
    "\n",
    "# Filter markers\n",
    "sc.tl.filter_rank_genes_groups(adata, min_fold_change=1)"
   ]
  },
  {
   "cell_type": "code",
   "execution_count": null,
   "id": "e32b09a0-2905-4013-a3fe-6f9864dc121a",
   "metadata": {},
   "outputs": [],
   "source": [
    "marker_df = sc.get.rank_genes_groups_df(adata, group=adata.uns['level_2_order'], key='rank_genes_groups_filtered', log2fc_min=1)\n",
    "marker_df.to_csv(f'{fig_path}/level_2_markers.csv')"
   ]
  },
  {
   "cell_type": "code",
   "execution_count": null,
   "id": "032a66a0-7770-46d2-9216-baf0395ca733",
   "metadata": {},
   "outputs": [],
   "source": [
    "current_group = 'Astrocyte'\n",
    "\n",
    "current_df = sc.get.rank_genes_groups_df(adata, group=current_group, key='rank_genes_groups')\n",
    "current_df.head(10)"
   ]
  },
  {
   "cell_type": "code",
   "execution_count": null,
   "id": "042ce9db-a22c-453e-bc1e-86ad747199de",
   "metadata": {},
   "outputs": [],
   "source": [
    "# Dot plot mean expression (##)\n",
    "sc.pl.rank_genes_groups_dotplot(adata, key='rank_genes_groups_filtered', n_genes=15, dendrogram=False)"
   ]
  },
  {
   "cell_type": "code",
   "execution_count": null,
   "id": "c6dcfae9-dd84-47c7-ae22-4e606cca979b",
   "metadata": {},
   "outputs": [],
   "source": [
    "# Other type of plots\n",
    "# Plot z-score heatmap\n",
    "sc.pl.rank_genes_groups_heatmap(adata, n_genes=10, groupby='level_2', min_logfoldchange=1, use_raw=False, swap_axes=True, \n",
    "                                vmin=-5, vmax=5, cmap='bwr', show_gene_labels=True,\n",
    "                                dendrogram=False, figsize=(30, 20), save=False)\n",
    "\n",
    "sc.pl.rank_genes_groups_heatmap(adata, n_genes=10, groupby='level_2', min_logfoldchange=1, use_raw=False, swap_axes=True, \n",
    "                                vmin=-5, vmax=5, cmap='bwr', show_gene_labels=True, key='rank_genes_groups_filtered', \n",
    "                                dendrogram=False, figsize=(30, 20), save=False)"
   ]
  },
  {
   "cell_type": "code",
   "execution_count": null,
   "id": "c24d9053-8d6c-4614-900c-c6d1f9d97d15",
   "metadata": {},
   "outputs": [],
   "source": [
    "sc.pl.rank_genes_groups_heatmap(adata, n_genes=10, groupby='level_2', min_logfoldchange=1, use_raw=False, swap_axes=True, \n",
    "                                vmin=-5, vmax=5, cmap='bwr', show_gene_labels=True, key='rank_genes_groups_filtered', \n",
    "                                dendrogram=False, figsize=(30, 20), save='_level_2')"
   ]
  },
  {
   "cell_type": "markdown",
   "id": "61e770e6-821c-4e5a-a547-212c7969883f",
   "metadata": {},
   "source": [
    "### spatial map"
   ]
  },
  {
   "cell_type": "code",
   "execution_count": null,
   "id": "4378b47b-6c3e-4c6b-9ab9-727f88e8e309",
   "metadata": {
    "tags": []
   },
   "outputs": [],
   "source": [
    "fig, ax = plt.subplots(figsize=(10, 10))\n",
    "sns.scatterplot(x='column', y='row', data=adata.obs, color='#1111', s=2, legend=False, ax=ax)\n",
    "sns.scatterplot(x='column', y='row', hue='level_2', data=adata.obs, palette=level_2_pl, s=2, legend=False, ax=ax)\n",
    "ax.axis('off')\n",
    "plt.show()"
   ]
  },
  {
   "cell_type": "code",
   "execution_count": null,
   "id": "7ffac5b9-cc71-4e62-8ba1-a40bdbac7ae7",
   "metadata": {
    "tags": []
   },
   "outputs": [],
   "source": [
    "for current_group in adata.obs['level_2'].cat.categories:\n",
    "    \n",
    "    # Plot single cluster\n",
    "    print(current_group)\n",
    "    fig, ax = plt.subplots(figsize=(10, 10))\n",
    "    sns.scatterplot(x='column', y='row', data=adata.obs, color='#1111', s=2, legend=False, ax=ax)\n",
    "    sns.scatterplot(x='column', y='row', hue='level_2', data=adata.obs.loc[adata.obs['level_2'] == current_group, :], palette=level_2_pl, s=4, legend=False, ax=ax)\n",
    "    # ax.title.set_text(current_group)\n",
    "    ax.axis('off')\n",
    "    plt.show()"
   ]
  },
  {
   "cell_type": "markdown",
   "id": "b5f00c34-226d-4fcd-a4d7-3d96319d88de",
   "metadata": {},
   "source": [
    "## Level 3"
   ]
  },
  {
   "cell_type": "code",
   "execution_count": null,
   "id": "2a22b51e-988d-441a-b234-cd94d054bb6b",
   "metadata": {},
   "outputs": [],
   "source": [
    "# Construct label dict based on 2022-03-19 discussion\n",
    "level_3_dict = {\n",
    "\n",
    "    'Ex L2/3 1': 'Ex L2', \n",
    "    'Ex L2/3 2': 'Ex L2/3',\n",
    "    'Ex L2/3 3': 'Ex L4',\n",
    "    'Ex L4': 'Ex L4/5',\n",
    "    'Ex L4/5 1': 'Ex L5',\n",
    "    'Ex L6': 'Ex L6 EP 1',\n",
    "    'Ex L6a 1': 'Ex L6',\n",
    "    'Ex CTXsp': 'Ex L6 EP 2', \n",
    "    'Ex MEA': 'Ex NLOT', \n",
    "    'Ex Mix 1': 'Ex Mix', \n",
    "    'Ex Mix 2': 'Ex CTX', \n",
    "    'Ex Mix 3': 'Ex RSP', \n",
    "    'Ex Mix 4': 'Ex L2', \n",
    "    'Ex Mix 5': 'Ex RSP',\n",
    "    'Inh Mix 1': 'Inh Amygdala', \n",
    "    'Inh Mix 2': 'Inh Amygdala',\n",
    "    'Vascular leptomeningeal cell 1': 'Pericytes/Vascular endothelial cell 1', \n",
    "    'Vascular leptomeningeal cell 2': 'Vascular leptomeningeal cell 1', \n",
    "    'Vascular leptomeningeal cell 3': 'Vascular smooth muscle cell', \n",
    "    'Vascular leptomeningeal cell 4': 'Vascular leptomeningeal cell 2',\n",
    "    'Pericytes/Vascular endothelial cell 1': 'Pericytes/Vascular endothelial cell 2', \n",
    "    'Pericytes/Vascular endothelial cell 2': 'Pericytes/Vascular endothelial cell 3', \n",
    "\n",
    "}"
   ]
  },
  {
   "cell_type": "code",
   "execution_count": null,
   "id": "168f3b94-6ad2-48e5-9aab-3afdd8e6163a",
   "metadata": {},
   "outputs": [],
   "source": [
    "adata.uns['level_3_order']"
   ]
  },
  {
   "cell_type": "code",
   "execution_count": null,
   "id": "3b19c0b5-2bae-4f3a-bd25-8fde09ba8bfb",
   "metadata": {},
   "outputs": [],
   "source": [
    "# set order \n",
    "level_3_order = [\n",
    "    'Ex L2', 'Ex L2/3', 'Ex L4', 'Ex L4/5', 'Ex L5', 'Ex L6', 'Ex L6 EP 1', 'Ex L6 EP 2',\n",
    "    'Ex CTX', 'Ex RSP', 'Ex PIR', 'Ex CA1', 'Ex CA2', 'Ex CA3', 'Ex DG', 'Ex NLOT', 'Ex MH',\n",
    "    'Ex TH 1', 'Ex TH 2', 'Ex TH 3', 'Ex Mix',\n",
    "    'Inh Npy', 'Inh Pvalb 1', 'Inh Pvalb 2', 'Inh Sst', 'Inh HY 1', 'Inh HY 2', 'Inh HY 3',\n",
    "    'Inh HY 4', 'Inh HY 5', 'Inh LH/HY 1', 'Inh LH/HY 2', 'Inh LH/HY 3', 'Inh STR 1', 'Inh STR 2', 'Inh STR 3', 'Inh STR 4', 'Inh STR 5',\n",
    "    'Inh Amygdala',\n",
    "    'Astrocyte 1', 'Astrocyte 2', 'Astrocyte 3',\n",
    "    'Oligodendrocyte 1', 'Oligodendrocyte 2', 'Oligodendrocyte 3', 'Oligodendrocyte 4', 'Oligodendrocytes precursor cell',\n",
    "    'Microglia', \n",
    "    'Vascular leptomeningeal cell 1', 'Vascular leptomeningeal cell 2', 'Vascular smooth muscle cell',\n",
    "    'Pericytes/Vascular endothelial cell 1', 'Pericytes/Vascular endothelial cell 2', 'Pericytes/Vascular endothelial cell 3',\n",
    "    'Chorid plexus epithelial cells', 'Ependymal cells',\n",
    "    'Unknown',\n",
    "]"
   ]
  },
  {
   "cell_type": "code",
   "execution_count": null,
   "id": "63a83c29-b85f-4500-a803-f088c952e74a",
   "metadata": {},
   "outputs": [],
   "source": [
    "# Construct label dict based on 2022-03-29 discussion\n",
    "level_3_dict = {\n",
    "\n",
    "    'Astrocyte 1': 'Astro 1', \n",
    "    'Astrocyte 2': 'Astro 2',\n",
    "    'Astrocyte 3': 'Astro 3',\n",
    "    'Oligodendrocyte 1': 'Oligo 1', \n",
    "    'Oligodendrocyte 2': 'Oligo 2',\n",
    "    'Oligodendrocyte 3': 'Oligo 3', \n",
    "    'Oligodendrocyte 4': 'Oligo 4',\n",
    "    'Oligodendrocytes precursor cell': 'OPC', \n",
    "    'Microglia': 'Micro',\n",
    "    'Vascular leptomeningeal cell 1': 'VLMC 1', \n",
    "    'Vascular leptomeningeal cell 2': 'VLMC 2',\n",
    "    'Vascular smooth muscle cell': 'VSMC',\n",
    "    'Pericytes/Vascular endothelial cell 1': 'Peri/VEC 1',\n",
    "    'Pericytes/Vascular endothelial cell 2': 'Peri/VEC 2',\n",
    "    'Pericytes/Vascular endothelial cell 3': 'Peri/VEC 3',\n",
    "    'Chorid plexus epithelial cells': 'CHOR', \n",
    "    'Ependymal cells': 'EPEN'\n",
    "\n",
    "}"
   ]
  },
  {
   "cell_type": "code",
   "execution_count": null,
   "id": "5885616c-867c-4331-85a7-52f52eb58a0f",
   "metadata": {},
   "outputs": [],
   "source": [
    "# set order \n",
    "level_3_order = [\n",
    "    'Ex L2', 'Ex L2/3', 'Ex L4', 'Ex L4/5', 'Ex L5', 'Ex L6', 'Ex L6 EP 1', 'Ex L6 EP 2',\n",
    "    'Ex CTX', 'Ex RSP', 'Ex PIR', 'Ex CA1', 'Ex CA2', 'Ex CA3', 'Ex DG', 'Ex NLOT', 'Ex MH',\n",
    "    'Ex TH 1', 'Ex TH 2', 'Ex TH 3', 'Ex Mix',\n",
    "    'Inh Npy', 'Inh Pvalb 1', 'Inh Pvalb 2', 'Inh Sst', 'Inh HY 1', 'Inh HY 2', 'Inh HY 3',\n",
    "    'Inh HY 4', 'Inh HY 5', 'Inh LH/HY 1', 'Inh LH/HY 2', 'Inh LH/HY 3', 'Inh STR 1', 'Inh STR 2', 'Inh STR 3', 'Inh STR 4', 'Inh STR 5',\n",
    "    'Inh Amygdala',\n",
    "    'Astro 1', 'Astro 2', 'Astro 3',\n",
    "    'Oligo 1', 'Oligo 2', 'Oligo 3', 'Oligo 4', 'OPC',\n",
    "    'Micro', \n",
    "    'VLMC 1', 'VLMC 2', 'VSMC',\n",
    "    'Peri/VEC 1', 'Peri/VEC 2', 'Peri/VEC 3',\n",
    "    'CHOR', 'EPEN',\n",
    "    'Unknown',\n",
    "]"
   ]
  },
  {
   "cell_type": "code",
   "execution_count": null,
   "id": "38a244f0-7729-4461-ab7a-b5e815a657a4",
   "metadata": {},
   "outputs": [],
   "source": [
    "# change label\n",
    "adata.obs['level_3'] = adata.obs['level_3'].astype(object)\n",
    "adata.obs['level_3'] = adata.obs['level_3'].replace(level_3_dict)\n",
    "adata.obs['level_3'] = adata.obs['level_3'].astype('category')\n",
    "adata.obs['level_3'] = adata.obs['level_3'].cat.reorder_categories(level_3_order)"
   ]
  },
  {
   "cell_type": "code",
   "execution_count": null,
   "id": "335cbee4-2a38-41a2-a862-131559e109ab",
   "metadata": {},
   "outputs": [],
   "source": [
    "adata"
   ]
  },
  {
   "cell_type": "code",
   "execution_count": null,
   "id": "68d150c0-c0a3-47a4-9094-f43507d61901",
   "metadata": {},
   "outputs": [],
   "source": [
    "# backup \n",
    "from datetime import datetime\n",
    "date = datetime.today().strftime('%Y-%m-%d')\n",
    "adata.write_h5ad(f\"{out_path}/{date}-Hu-TissueRIBOmap-level3.h5ad\")"
   ]
  },
  {
   "cell_type": "markdown",
   "id": "45164887-64cd-4614-a289-c33182eac0f2",
   "metadata": {},
   "source": [
    "### embedding"
   ]
  },
  {
   "cell_type": "code",
   "execution_count": null,
   "id": "ddae7251-00c3-40ab-b535-2848a49b1929",
   "metadata": {},
   "outputs": [],
   "source": [
    "level_3_colors_dict = {\n",
    "\n",
    "    'Ex L2': '#c4ff45', \n",
    "    'Ex L2/3': '#9ee800', \n",
    "    'Ex L4': '#05ba02', \n",
    "    'Ex L4/5': '#32a630', \n",
    "    'Ex L5': '#256b00', \n",
    "    'Ex L6': '#316e10', \n",
    "    'Ex L6 EP 1': '#406e27', \n",
    "    'Ex L6 EP 2': '#496e36',\n",
    "    'Ex CTX': '#6fa66f', \n",
    "    'Ex Mix': '#c5fcc5',\n",
    "    'Ex RSP': '#00e67a', \n",
    "    'Ex CA1': '#77ed8f', \n",
    "    'Ex CA2': '#28330b', \n",
    "    'Ex CA3': '#ffd438', \n",
    "    'Ex DG': '#295029', \n",
    "    'Ex NLOT': '#317531', \n",
    "    'Ex PIR': '#82ad2d', \n",
    "    'Ex MH': '#d93f3c',\n",
    "    'Ex TH 1': '#fa8380', \n",
    "    'Ex TH 2': '#ed5e5b', \n",
    "    'Ex TH 3': '#a84240', \n",
    "    'Inh Npy': '#ffdcbd', \n",
    "    'Inh Sst': '#fead65', \n",
    "    'Inh Pvalb 1': '#ee750a', \n",
    "    'Inh Pvalb 2': '#b76319', \n",
    "    'Inh HY 1': '#f29ed8', \n",
    "    'Inh HY 2': '#ee90d1', \n",
    "    'Inh HY 3': '#e883c9',\n",
    "    'Inh HY 4': '#e377c1', \n",
    "    'Inh HY 5': '#d863b4', \n",
    "    'Inh LH/HY 1': '#cc52a7', \n",
    "    'Inh LH/HY 2': '#be4298', \n",
    "    'Inh LH/HY 3': '#a34085', \n",
    "    'Inh STR 1': '#7aecf8', \n",
    "    'Inh STR 2': '#3cdeef', \n",
    "    'Inh STR 3': '#17bdce', \n",
    "    'Inh STR 4': '#228b96', \n",
    "    'Inh STR 5': '#266065',\n",
    "    'Inh Amygdala': '#7c4d24',\n",
    "    'Astro 1': '#eaeaa2', \n",
    "    'Astro 2': '#bcbc5e', \n",
    "    'Astro 3': '#a6a64d',\n",
    "    'Oligo 1': '#a8e1eb',\n",
    "    'Oligo 2': '#9ed9e4', \n",
    "    'Oligo 3': '#7dc7d5', \n",
    "    'Oligo 4': '#61b2c1', \n",
    "    'OPC': '#667872',\n",
    "    'Micro': '#8597c6', \n",
    "    'VLMC 1': '#1f76b3', \n",
    "    'VLMC 2': '#246693', \n",
    "    'VSMC': '#774d44',\n",
    "    'Peri/VEC 1': '#d3a59c', \n",
    "    'Peri/VEC 2': '#c49c94', \n",
    "    'Peri/VEC 3': '#b2847b',\n",
    "    'CHOR': '#7f52a9', \n",
    "    'EPEN': '#c4b0d4',\n",
    "    'Unknown': '#cccccc',\n",
    "    \n",
    "}"
   ]
  },
  {
   "cell_type": "code",
   "execution_count": null,
   "id": "05619b02-9947-4d2d-af17-e940f06e7de7",
   "metadata": {},
   "outputs": [],
   "source": [
    "adata"
   ]
  },
  {
   "cell_type": "code",
   "execution_count": null,
   "id": "8035cb9c-4f6b-4687-949f-7e122a2f2ddd",
   "metadata": {},
   "outputs": [],
   "source": [
    "# Get colormap\n",
    "# level_3_colors = sns.color_palette(\"hls\", adata.obs['level_3'].nunique() - 1)\n",
    "# level_3_colors.append((0.8, 0.8, 0.8))\n",
    "level_3_colors = adata.uns['level_3_color_list']\n",
    "# level_3_colors = list(level_3_colors_dict.values())\n",
    "level_3_pl = sns.color_palette(level_3_colors)\n",
    "level_3_cmap = ListedColormap(level_3_pl.as_hex())\n",
    "\n",
    "# level_3_order = list(level_3_colors_dict.keys())\n",
    "level_3_order = adata.uns['level_3_order']\n",
    "sns.palplot(level_3_pl)\n",
    "plt.xticks(range(len(level_3_order)), level_3_order, size=10, rotation=45)\n",
    "plt.tight_layout()\n",
    "plt.show()"
   ]
  },
  {
   "cell_type": "code",
   "execution_count": null,
   "id": "9906f8cc-49ca-454c-9f12-c2d16d3af936",
   "metadata": {},
   "outputs": [],
   "source": [
    "adata.obs['level_3'] = adata.obs['level_3'].cat.reorder_categories(level_3_order)"
   ]
  },
  {
   "cell_type": "code",
   "execution_count": null,
   "id": "5bca78c0-09bd-4303-b00d-f02d6f776680",
   "metadata": {},
   "outputs": [],
   "source": [
    "# set order\n",
    "level_3_order = [\n",
    "    'Ex L2/3 1', 'Ex L2/3 2', 'Ex L2/3 3', 'Ex L4', 'Ex L4/5 1', 'Ex L6', 'Ex L6a 1',\n",
    "    'Ex CTXsp', 'Ex PIR', 'Ex CA1', 'Ex CA2', 'Ex CA3', 'Ex DG', 'Ex MEA', 'Ex MH',\n",
    "    'Ex TH 1', 'Ex TH 2', 'Ex TH 3', 'Ex Mix 1', 'Ex Mix 2', 'Ex Mix 3', 'Ex Mix 4', 'Ex Mix 5',\n",
    "    'Inh Npy', 'Inh Pvalb 1', 'Inh Pvalb 2', 'Inh Sst', 'Inh HY 1', 'Inh HY 2', 'Inh HY 3',\n",
    "    'Inh HY 4', 'Inh HY 5', 'Inh LH/HY 1', 'Inh LH/HY 2', 'Inh LH/HY 3', 'Inh STR 1', 'Inh STR 2', 'Inh STR 3', 'Inh STR 4', 'Inh STR 5',\n",
    "    'Inh Mix 1', 'Inh Mix 2',\n",
    "    'Astrocyte 1', 'Astrocyte 2', 'Astrocyte 3',\n",
    "    'Oligodendrocyte 1', 'Oligodendrocyte 2', 'Oligodendrocyte 3', 'Oligodendrocyte 4', 'Oligodendrocytes precursor cell',\n",
    "    'Microglia', \n",
    "    'Vascular leptomeningeal cell 1', 'Vascular leptomeningeal cell 2', 'Vascular leptomeningeal cell 3', 'Vascular leptomeningeal cell 4',\n",
    "    'Pericytes/Vascular endothelial cell 1', 'Pericytes/Vascular endothelial cell 2', 'Chorid plexus epithelial cells', 'Ependymal cells',\n",
    "    'Unknown',\n",
    "]\n",
    "\n",
    "adata.obs['level_3'] = adata.obs['level_3'].cat.reorder_categories(level_3_order)"
   ]
  },
  {
   "cell_type": "code",
   "execution_count": null,
   "id": "673d138d-7f67-4324-a310-f1ea8954e6d5",
   "metadata": {},
   "outputs": [],
   "source": [
    "# Save plots\n",
    "# Plot UMAP with cluster labels w/ new color\n",
    "sc.pl.umap(adata, color='level_3', legend_loc='on data',\n",
    "           legend_fontsize=12, legend_fontoutline=2, frameon=False, \n",
    "           title='Level 3 clustering', palette=level_3_pl, save=False)\n",
    "\n",
    "fig, ax = plt.subplots(figsize=(10, 7))\n",
    "sc.pl.umap(adata, color='level_3', frameon=False, legend_loc='right margin', ax=ax,\n",
    "           palette=level_3_pl, save=False)"
   ]
  },
  {
   "cell_type": "code",
   "execution_count": null,
   "id": "3e114b8c-9f29-4532-97b7-d07dde6fa784",
   "metadata": {},
   "outputs": [],
   "source": [
    "fig, ax = plt.subplots(figsize=(10, 7))\n",
    "sc.pl.umap(adata, color='level_3', frameon=False, legend_loc='right margin', ax=ax, title='', s=3,\n",
    "           palette=level_3_pl, save=False)"
   ]
  },
  {
   "cell_type": "code",
   "execution_count": null,
   "id": "7c4949a4-afc0-4feb-9fb3-a8786cc47a88",
   "metadata": {},
   "outputs": [],
   "source": [
    "fig, ax = plt.subplots(figsize=(10, 7))\n",
    "sc.pl.umap(adata, color='level_3', frameon=False, legend_loc=False, ax=ax, title='', size=10, alpha=.5,\n",
    "           palette=level_3_pl, save='_no_legend_larger')"
   ]
  },
  {
   "cell_type": "code",
   "execution_count": null,
   "id": "cbb15b6e-d805-4333-ad28-6e21422ec5a7",
   "metadata": {},
   "outputs": [],
   "source": [
    "fig, ax = plt.subplots(figsize=(10, 7))\n",
    "sc.pl.umap(adata, color='level_3', frameon=False, legend_loc=False, ax=ax, title='',\n",
    "           palette=level_3_pl, save='_no_legend')\n",
    "\n",
    "sc.set_figure_params(format='pdf', dpi=150)\n",
    "fig, ax = plt.subplots(figsize=(10, 7))\n",
    "sc.pl.umap(adata, color='level_3', frameon=False, legend_loc='right margin', ax=ax, title='',\n",
    "           palette=level_3_pl, save='_legend')"
   ]
  },
  {
   "cell_type": "code",
   "execution_count": null,
   "id": "2971283f-652a-499e-a013-66d0b002a310",
   "metadata": {},
   "outputs": [],
   "source": [
    "adata.obs['level_3_code'] = adata.obs['level_3'].cat.codes.astype('category')\n",
    "\n",
    "sc.set_figure_params(format='pdf', dpi=150)\n",
    "fig, ax = plt.subplots(figsize=(10, 7))\n",
    "sc.pl.umap(adata, color='level_3_code', frameon=False, legend_loc='on data', ax=ax, title='', legend_fontsize=4, legend_fontoutline=1,\n",
    "           palette=level_3_pl, save='_code')"
   ]
  },
  {
   "cell_type": "code",
   "execution_count": null,
   "id": "355db2a5-40aa-4325-b78c-03f3f1e00bdd",
   "metadata": {},
   "outputs": [],
   "source": [
    "adata.uns['level_3_color_list'] = level_3_colors\n",
    "adata.uns['level_3_order'] = level_3_order"
   ]
  },
  {
   "cell_type": "markdown",
   "id": "2eb9c7ec-db2c-42e9-8da1-794a30a95700",
   "metadata": {},
   "source": [
    "### gene markers"
   ]
  },
  {
   "cell_type": "code",
   "execution_count": null,
   "id": "a983e51e-8ee6-4a8e-9f08-193df9078da0",
   "metadata": {},
   "outputs": [],
   "source": [
    "# Get markers for each cluster\n",
    "sc.tl.rank_genes_groups(adata, 'level_3', method='wilcoxon', pts=True)\n",
    "\n",
    "# Filter markers\n",
    "sc.tl.filter_rank_genes_groups(adata, min_fold_change=1)"
   ]
  },
  {
   "cell_type": "code",
   "execution_count": null,
   "id": "4dd90722-9d20-4f73-82fe-3b5a27a02fcd",
   "metadata": {},
   "outputs": [],
   "source": [
    "current_group = 'Ex L2'\n",
    "\n",
    "current_df = sc.get.rank_genes_groups_df(adata, group=current_group, key='rank_genes_groups_filtered')\n",
    "current_df.head(10)"
   ]
  },
  {
   "cell_type": "code",
   "execution_count": null,
   "id": "399d4b10-3636-4261-94a3-b3344739c375",
   "metadata": {},
   "outputs": [],
   "source": [
    "# Print markers \n",
    "markers = []\n",
    "temp = pd.DataFrame(adata.uns['rank_genes_groups']['names']).head(15)\n",
    "for i in range(temp.shape[1]):\n",
    "    curr_col = temp.iloc[:, i].to_list()\n",
    "    markers.append(' '.join(curr_col))\n",
    "    \n",
    "filtered_markers = []\n",
    "temp = pd.DataFrame(adata.uns['rank_genes_groups_filtered']['names']).head(15)\n",
    "for i in range(temp.shape[1]):\n",
    "    curr_col = temp.iloc[:, i].to_list()\n",
    "    # print(curr_col)\n",
    "    curr_col = [d for d in curr_col if type(d) == str]\n",
    "    filtered_markers.append(' '.join(curr_col))\n",
    "    \n",
    "markers_df = pd.DataFrame({'level_3': level_3_order, 'markers': markers, 'filtered_markers':filtered_markers})\n",
    "date = datetime.today().strftime('%Y-%m-%d')\n",
    "markers_df.to_csv(f\"{out_path}/{date}-level-3-gene-markers.csv\")\n",
    "markers_df\n"
   ]
  },
  {
   "cell_type": "code",
   "execution_count": null,
   "id": "65051d3e-14f9-4c81-bd9b-5a75dcc407a1",
   "metadata": {},
   "outputs": [],
   "source": [
    "# Dot plot mean expression (##)\n",
    "sc.pl.rank_genes_groups_dotplot(adata, key='rank_genes_groups_filtered', n_genes=10, dendrogram=False, save=True)"
   ]
  },
  {
   "cell_type": "code",
   "execution_count": null,
   "id": "4fec7468-03d0-4622-b124-640a9d92b6e2",
   "metadata": {},
   "outputs": [],
   "source": [
    "inh_group = [    'Inh Npy', 'Inh Pvalb 1', 'Inh Pvalb 2', 'Inh Sst', 'Inh HY 1', 'Inh HY 2', 'Inh HY 3',\n",
    "    'Inh HY 4', 'Inh HY 5', 'Inh LH/HY 1', 'Inh LH/HY 2', 'Inh LH/HY 3', 'Inh STR 1', 'Inh STR 2', 'Inh STR 3', 'Inh STR 4', 'Inh STR 5',\n",
    "    'Inh Amygdala',]\n",
    "sc.pl.rank_genes_groups_dotplot(adata, groups=inh_group, key='rank_genes_groups_filtered', n_genes=5, dendrogram=False, save='Inh')"
   ]
  },
  {
   "cell_type": "code",
   "execution_count": null,
   "id": "e0aae150-7728-4cb7-9ed3-536075546323",
   "metadata": {},
   "outputs": [],
   "source": [
    "# Other type of plots\n",
    "# Plot z-score heatmap\n",
    "sc.pl.rank_genes_groups_heatmap(adata, n_genes=10, groupby='level_3', min_logfoldchange=1, use_raw=False, swap_axes=True, \n",
    "                                vmin=-5, vmax=5, cmap='bwr', show_gene_labels=True,\n",
    "                                dendrogram=False, figsize=(30, 20), save=False)\n",
    "\n",
    "sc.pl.rank_genes_groups_heatmap(adata, n_genes=5, groupby='level_3', min_logfoldchange=.1, use_raw=False, swap_axes=True, \n",
    "                                vmin=-5, vmax=5, cmap='bwr', show_gene_labels=False, key='rank_genes_groups_filtered', \n",
    "                                dendrogram=False, figsize=(30, 20), save='_level_3')"
   ]
  },
  {
   "cell_type": "markdown",
   "id": "1802dd8b-a036-4303-8860-192d8567f15f",
   "metadata": {},
   "source": [
    "### spatial map"
   ]
  },
  {
   "cell_type": "code",
   "execution_count": null,
   "id": "7a21ff05-609f-44e4-8e26-89c6ac82029a",
   "metadata": {},
   "outputs": [],
   "source": [
    "sns.set(rc={'axes.facecolor':'#fefff5', 'figure.facecolor':'#fefff5'})"
   ]
  },
  {
   "cell_type": "code",
   "execution_count": null,
   "id": "03312fdb-a680-48a8-9b2c-1ab84863bb27",
   "metadata": {
    "tags": []
   },
   "outputs": [],
   "source": [
    "sc.set_figure_params(format='tif', dpi=150)\n",
    "fig, ax = plt.subplots(figsize=(18, 23))\n",
    "sns.scatterplot(x='column', y='row', data=adata.obs, color='#1111', s=2, legend=False, ax=ax)\n",
    "sns.scatterplot(x='column', y='row', hue='level_3', data=adata.obs, palette=level_3_pl, s=12, edgecolor=None, legend=False, ax=ax)\n",
    "\n",
    "ax.axis('off')\n",
    "plt.tight_layout(pad=0)\n",
    "plt.savefig(os.path.join(fig_path, 'spatial-map-level-3.tif')) # fdf7ec\n",
    "plt.show()"
   ]
  },
  {
   "cell_type": "code",
   "execution_count": null,
   "id": "8632535b-1646-41c1-bd63-e7c02c5a7132",
   "metadata": {
    "tags": []
   },
   "outputs": [],
   "source": [
    "for current_group in adata.obs['level_3'].cat.categories:\n",
    "    \n",
    "    # Plot single cluster\n",
    "    print(current_group)\n",
    "    fig, ax = plt.subplots(figsize=(10, 10))\n",
    "    sns.scatterplot(x='column', y='row', data=adata.obs, color='#1111', s=2, legend=False, ax=ax)\n",
    "    sns.scatterplot(x='column', y='row', hue='level_3', data=adata.obs.loc[adata.obs['level_3'] == current_group, :], palette=level_3_pl, s=4, legend=False, ax=ax)\n",
    "    ax.title.set_text(current_group)\n",
    "    ax.axis('off')\n",
    "    plt.show()"
   ]
  },
  {
   "cell_type": "markdown",
   "id": "a591cb6b-d482-4d9f-b8b5-63d3152873f4",
   "metadata": {},
   "source": [
    "### sankey diagram"
   ]
  },
  {
   "cell_type": "code",
   "execution_count": null,
   "id": "7297d16b-b2d0-4482-9347-b3aef7148537",
   "metadata": {},
   "outputs": [],
   "source": []
  },
  {
   "cell_type": "markdown",
   "id": "0654e78c-fc82-4ba2-a682-8cde0871b71e",
   "metadata": {},
   "source": [
    "## Output backup"
   ]
  },
  {
   "cell_type": "code",
   "execution_count": null,
   "id": "b078373a-9a6e-40b1-82da-c37360404b94",
   "metadata": {},
   "outputs": [],
   "source": [
    "adata"
   ]
  },
  {
   "cell_type": "code",
   "execution_count": null,
   "id": "585a83cd-b5e3-41bc-bb55-868ca55267b5",
   "metadata": {},
   "outputs": [],
   "source": [
    "# backup \n",
    "from datetime import datetime\n",
    "date = datetime.today().strftime('%Y-%m-%d')\n",
    "adata.write_h5ad(f\"{out_path}/{date}-Hu-TissueRIBOmap-level3.h5ad\")"
   ]
  },
  {
   "cell_type": "markdown",
   "id": "ab0d9cc5-448a-48f3-be7a-187cb87c94a9",
   "metadata": {
    "tags": []
   },
   "source": [
    "## Sub level clustering"
   ]
  },
  {
   "cell_type": "markdown",
   "id": "713ee38e-f06b-48c3-bd15-915d99e7249f",
   "metadata": {},
   "source": [
    "### Glia"
   ]
  },
  {
   "cell_type": "code",
   "execution_count": null,
   "id": "d7c66989-35f1-4fcc-8205-e560ef1b35f1",
   "metadata": {},
   "outputs": [],
   "source": [
    "# Embedding parameters\n",
    "emb_dict = {\n",
    "    'Neuron': {'n_neighbors': 50, 'n_pcs': 10, 'min_dist': .1, 'cluster_resolution': 2},\n",
    "    'Glia': {'n_neighbors': 50, 'n_pcs': 15, 'min_dist': .1, 'cluster_resolution': 1.2},\n",
    "}\n",
    "\n",
    "save_embedding = True"
   ]
  },
  {
   "cell_type": "code",
   "execution_count": null,
   "id": "103755e7-863e-4d63-b7a9-977c2e597005",
   "metadata": {},
   "outputs": [],
   "source": [
    "# Subset\n",
    "sub_id = 'Glia'\n",
    "curr_cells = adata.obs['level_1'] == sub_id\n",
    "sdata = adata[curr_cells, :]\n",
    "sdata"
   ]
  },
  {
   "cell_type": "code",
   "execution_count": null,
   "id": "31ffbae9-16bb-4b2b-aa33-493c57f17973",
   "metadata": {},
   "outputs": [],
   "source": [
    "sub_level_fig_path = os.path.join(fig_path, sub_id)\n",
    "if not os.path.exists(sub_level_fig_path):\n",
    "    os.mkdir(sub_level_fig_path)"
   ]
  },
  {
   "cell_type": "markdown",
   "id": "d1fee9e2-46db-4e3b-a05d-ebf35b974dbb",
   "metadata": {},
   "source": [
    "#### clustering"
   ]
  },
  {
   "cell_type": "code",
   "execution_count": null,
   "id": "3a541c94-ef4c-4617-82cd-1fee7b3b4166",
   "metadata": {},
   "outputs": [],
   "source": [
    "# Run PCA\n",
    "sc.tl.pca(sdata, svd_solver='arpack', use_highly_variable=True)\n",
    "\n",
    "# Plot explained variance \n",
    "sc.pl.pca_variance_ratio(sdata, log=False)\n",
    "\n",
    "# Plot PCA\n",
    "sc.pl.pca(sdata, color='protocol')"
   ]
  },
  {
   "cell_type": "code",
   "execution_count": null,
   "id": "43b8da79-43b6-4d1f-a4b0-74907edeae47",
   "metadata": {},
   "outputs": [],
   "source": [
    "%%time\n",
    "# Computing the neighborhood graph\n",
    "n_neighbors = emb_dict[sub_id]['n_neighbors']\n",
    "n_pcs = emb_dict[sub_id]['n_pcs']\n",
    "min_dist = emb_dict[sub_id]['min_dist']\n",
    "\n",
    "sc.pp.neighbors(sdata, n_neighbors=n_neighbors, n_pcs=n_pcs, random_state=0)\n",
    "\n",
    "# Run UMAP\n",
    "sc.tl.umap(sdata, min_dist=min_dist, random_state=0)\n",
    "sc.tl.diffmap(sdata, n_comps=n_pcs, random_state=0)"
   ]
  },
  {
   "cell_type": "code",
   "execution_count": null,
   "id": "7a19b798-2231-432c-9287-c51615448c95",
   "metadata": {},
   "outputs": [],
   "source": [
    "%%time\n",
    "# Run leiden cluster\n",
    "cluster_resolution = emb_dict[sub_id]['cluster_resolution']\n",
    "sc.tl.leiden(sdata, resolution = cluster_resolution)\n",
    "\n",
    "# Plot UMAP with cluster labels \n",
    "sc.pl.umap(sdata, color='leiden')\n",
    "sc.pl.diffmap(sdata, color='leiden')\n",
    "n_clusters = sdata.obs['leiden'].unique().shape[0]\n",
    "\n",
    "if save_embedding:\n",
    "    # Save log\n",
    "    with open(f'{fig_path}/log_{sub_id}.txt', 'w') as f:\n",
    "        f.write(f\"\"\"Number of neighbor: {n_neighbors}\n",
    "    Number of PC: {n_pcs}\n",
    "    Resolution: {cluster_resolution}\n",
    "    Min-distance: {min_dist}\n",
    "    Number of clusters: {n_clusters}\"\"\")\n",
    "\n",
    "    # save embeddings\n",
    "    np.savetxt(f'{fig_path}/embedding_{sub_id}_umap.csv', sdata.obsm['X_umap'], delimiter=\",\")\n",
    "    # np.savetxt(f'{fig_path}/embedding_{sub_id}_diffmap.csv', sdata.obsm['X_diffmap'], delimiter=\",\")"
   ]
  },
  {
   "cell_type": "code",
   "execution_count": null,
   "id": "9a01ca44-f9fa-428d-b73c-dc916467f9cb",
   "metadata": {},
   "outputs": [],
   "source": [
    "current_order = []\n",
    "current_cpl = []\n",
    "for i, current_type in enumerate(sdata.uns['level_3_order']):\n",
    "    if current_type in sdata.obs['level_3'].values:\n",
    "        current_order.append(current_type)\n",
    "        current_cpl.append(sdata.uns['level_3_color_list'][i])\n",
    "        \n",
    "sns.palplot(current_cpl)\n",
    "plt.xticks(range(len(current_order)), current_order, size=10, rotation=45)\n",
    "plt.tight_layout()\n",
    "plt.show()"
   ]
  },
  {
   "cell_type": "code",
   "execution_count": null,
   "id": "1cd15c3a-6607-4463-a3f0-3f8377502d7c",
   "metadata": {},
   "outputs": [],
   "source": [
    "fig, ax = plt.subplots(figsize=(10, 7))\n",
    "sc.pl.umap(sdata, color='level_3', frameon=False, legend_loc=False, ax=ax, title='',\n",
    "           save=False)"
   ]
  },
  {
   "cell_type": "code",
   "execution_count": null,
   "id": "2dcb47b7-aae0-489f-a43a-a32675cccdd4",
   "metadata": {},
   "outputs": [],
   "source": [
    "sc.set_figure_params(format='pdf', dpi=150)\n",
    "\n",
    "fig, ax = plt.subplots(figsize=(10, 7))\n",
    "sc.pl.umap(sdata, color='level_3', frameon=False, legend_loc=False, ax=ax, title='',\n",
    "           save='_Glia_no_legend')\n",
    "\n",
    "fig, ax = plt.subplots(figsize=(10, 7))\n",
    "sc.pl.umap(sdata, color='level_3', frameon=False, legend_loc='right margin', ax=ax, title='',\n",
    "           save='_Glia_legend')\n",
    "\n",
    "fig, ax = plt.subplots(figsize=(10, 7))\n",
    "sc.pl.umap(sdata, color='level_3', frameon=False, legend_loc='on data', ax=ax, title='', \n",
    "           legend_fontsize=8, legend_fontoutline=2,\n",
    "           save='_Glia_on_data')"
   ]
  },
  {
   "cell_type": "code",
   "execution_count": null,
   "id": "84a5f110-e3f1-45f2-a735-3e9fdd813ddf",
   "metadata": {},
   "outputs": [],
   "source": [
    "# Get markers for each cluster\n",
    "sc.tl.rank_genes_groups(sdata, 'level_3', method='wilcoxon', pts=True)\n",
    "\n",
    "# Filter markers\n",
    "sc.tl.filter_rank_genes_groups(sdata, min_fold_change=.1)"
   ]
  },
  {
   "cell_type": "code",
   "execution_count": null,
   "id": "68c81eec-d148-496f-8822-47f3fd8d6be4",
   "metadata": {},
   "outputs": [],
   "source": [
    "sc.pl.rank_genes_groups_heatmap(sdata, n_genes=5, groupby='level_3', min_logfoldchange=.1, use_raw=False, swap_axes=True, \n",
    "                                vmin=-5, vmax=5, cmap='bwr', show_gene_labels=True, key='rank_genes_groups_filtered', \n",
    "                                dendrogram=False, figsize=(30, 20), save='_Glia')"
   ]
  },
  {
   "cell_type": "code",
   "execution_count": null,
   "id": "012cd5a6-035c-469d-b37d-972d305d5ba8",
   "metadata": {},
   "outputs": [],
   "source": [
    "marker_df = sc.get.rank_genes_groups_df(sdata, group=current_order, key='rank_genes_groups_filtered', log2fc_min=.1)\n",
    "marker_df.to_csv(f'{sub_level_fig_path}/Glia_markers.csv')"
   ]
  },
  {
   "cell_type": "markdown",
   "id": "f0cb2e54-7cac-441e-a2f0-abeac9b0f5db",
   "metadata": {
    "tags": []
   },
   "source": [
    "#### spatial map"
   ]
  },
  {
   "cell_type": "code",
   "execution_count": null,
   "id": "9c4b797e-8080-48ad-9202-2e2c0c08d17f",
   "metadata": {},
   "outputs": [],
   "source": [
    "clustermap_center_path = os.path.join(base_path, 'RIBOmap', 'cell_center_polished.csv')\n",
    "cell_center_df = pd.read_csv(clustermap_center_path, index_col=0)"
   ]
  },
  {
   "cell_type": "code",
   "execution_count": null,
   "id": "9f86d49e-d350-420d-b5fe-cf20dd8d6e35",
   "metadata": {
    "tags": []
   },
   "outputs": [],
   "source": [
    "save_as = True\n",
    "sc.set_figure_params(format='tif', dpi=150)\n",
    "\n",
    "dot_size = 12\n",
    "fig, ax = plt.subplots(figsize=(18, 23))\n",
    "sns.scatterplot(x='column', y='row', data=cell_center_df, color='#ededed', s=dot_size, legend=False, edgecolor=None, ax=ax)\n",
    "sns.scatterplot(x='column', y='row', hue='level_3', data=sdata.obs, palette=current_cpl, s=dot_size, edgecolor=None, legend=False, ax=ax)\n",
    "ax.axis('off')\n",
    "plt.tight_layout(pad=0)\n",
    "\n",
    "if save_as:\n",
    "    plt.savefig(os.path.join(fig_path, 'spatial-map-Glia.tif'))\n",
    "plt.show()"
   ]
  },
  {
   "cell_type": "code",
   "execution_count": null,
   "id": "0795e0dd-24b4-4ac7-9926-315f04f41b83",
   "metadata": {},
   "outputs": [],
   "source": [
    "save_as = True\n",
    "sc.set_figure_params(format='tif', dpi=150)\n",
    "dot_size = 20\n",
    "\n",
    "for current_type in tqdm(current_order):\n",
    "    \n",
    "    fig, ax = plt.subplots(figsize=(18, 23))\n",
    "    sns.scatterplot(x='column', y='row', data=cell_center_df, color='#ededed', s=dot_size, legend=False, edgecolor=None, ax=ax)\n",
    "    sns.scatterplot(x='column', y='row', hue='level_3', data=sdata.obs.loc[sdata.obs['level_3'] == current_type, :], palette=current_cpl, s=dot_size, edgecolor=None, legend=False, ax=ax)\n",
    "    ax.axis('off')\n",
    "    plt.tight_layout(pad=0)\n",
    "\n",
    "    if save_as:\n",
    "        current_file_name = current_type.replace('/', '_')\n",
    "        plt.savefig(os.path.join(sub_level_fig_path, f'spatial-map-{current_file_name}.tif'))\n",
    "    plt.close()\n",
    "    # plt.show()\n",
    "    "
   ]
  },
  {
   "cell_type": "markdown",
   "id": "be5f9915-6f73-4ed5-9e72-eaf8e5be0d73",
   "metadata": {},
   "source": [
    "### Neuron"
   ]
  },
  {
   "cell_type": "code",
   "execution_count": null,
   "id": "c8fef120-d38c-45bf-98f2-b384c4019296",
   "metadata": {},
   "outputs": [],
   "source": [
    "# Embedding parameters\n",
    "emb_dict = {\n",
    "    'Excitatory neuron': {'n_neighbors': 50, 'n_pcs': 15, 'min_dist': .1, 'cluster_resolution': 2},\n",
    "    'Inhibitory neuron': {'n_neighbors': 50, 'n_pcs': 10, 'min_dist': .1, 'cluster_resolution': 1.5},\n",
    "}\n",
    "\n",
    "save_embedding = True"
   ]
  },
  {
   "cell_type": "code",
   "execution_count": null,
   "id": "d93e56c6-3065-469e-ad3e-681f2bf91b9c",
   "metadata": {},
   "outputs": [],
   "source": [
    "# Subset\n",
    "sub_id = 'Excitatory neuron'\n",
    "curr_cells = adata.obs['level_2'] == sub_id\n",
    "sdata = adata[curr_cells, :]\n",
    "sdata"
   ]
  },
  {
   "cell_type": "code",
   "execution_count": null,
   "id": "222dcf91-48f2-4637-a539-360643dbbae7",
   "metadata": {},
   "outputs": [],
   "source": [
    "sub_level_fig_path = os.path.join(fig_path, sub_id)\n",
    "if not os.path.exists(sub_level_fig_path):\n",
    "    os.mkdir(sub_level_fig_path)"
   ]
  },
  {
   "cell_type": "markdown",
   "id": "1c2bf03b-917e-405e-9dbe-94863a9672f0",
   "metadata": {},
   "source": [
    "#### clustering"
   ]
  },
  {
   "cell_type": "code",
   "execution_count": null,
   "id": "4ddb3bb4-e787-4a18-b917-097263790f2b",
   "metadata": {},
   "outputs": [],
   "source": [
    "# Run PCA\n",
    "sc.tl.pca(sdata, svd_solver='arpack', use_highly_variable=True)\n",
    "\n",
    "# Plot explained variance \n",
    "sc.pl.pca_variance_ratio(sdata, log=False)\n",
    "\n",
    "# Plot PCA\n",
    "sc.pl.pca(sdata, color='protocol')"
   ]
  },
  {
   "cell_type": "code",
   "execution_count": null,
   "id": "e86c0d55-a209-48fe-a268-d02595407ac6",
   "metadata": {},
   "outputs": [],
   "source": [
    "%%time\n",
    "# Computing the neighborhood graph\n",
    "n_neighbors = emb_dict[sub_id]['n_neighbors']\n",
    "n_pcs = emb_dict[sub_id]['n_pcs']\n",
    "min_dist = emb_dict[sub_id]['min_dist']\n",
    "\n",
    "sc.pp.neighbors(sdata, n_neighbors=n_neighbors, n_pcs=n_pcs, random_state=0)\n",
    "\n",
    "# Run UMAP\n",
    "sc.tl.umap(sdata, min_dist=min_dist, random_state=0)\n",
    "sc.tl.diffmap(sdata, n_comps=n_pcs, random_state=0)"
   ]
  },
  {
   "cell_type": "code",
   "execution_count": null,
   "id": "26639692-de41-4547-96a6-38773400a46c",
   "metadata": {},
   "outputs": [],
   "source": [
    "%%time\n",
    "# Run leiden cluster\n",
    "cluster_resolution = emb_dict[sub_id]['cluster_resolution']\n",
    "sc.tl.leiden(sdata, resolution = cluster_resolution)\n",
    "\n",
    "# Plot UMAP with cluster labels \n",
    "sc.pl.umap(sdata, color='leiden')\n",
    "sc.pl.diffmap(sdata, color='leiden')\n",
    "n_clusters = sdata.obs['leiden'].unique().shape[0]\n",
    "\n",
    "if save_embedding:\n",
    "    # Save log\n",
    "    with open(f'{fig_path}/log_{sub_id}.txt', 'w') as f:\n",
    "        f.write(f\"\"\"Number of neighbor: {n_neighbors}\n",
    "    Number of PC: {n_pcs}\n",
    "    Resolution: {cluster_resolution}\n",
    "    Min-distance: {min_dist}\n",
    "    Number of clusters: {n_clusters}\"\"\")\n",
    "\n",
    "    # save embeddings\n",
    "    np.savetxt(f'{fig_path}/embedding_{sub_id}_umap.csv', sdata.obsm['X_umap'], delimiter=\",\")\n",
    "    # np.savetxt(f'{fig_path}/embedding_{sub_id}_diffmap.csv', sdata.obsm['X_diffmap'], delimiter=\",\")"
   ]
  },
  {
   "cell_type": "code",
   "execution_count": null,
   "id": "912a343c-79d5-4207-bb02-e1a10feba229",
   "metadata": {},
   "outputs": [],
   "source": [
    "current_order = []\n",
    "current_cpl = []\n",
    "for i, current_type in enumerate(sdata.uns['level_3_order']):\n",
    "    if current_type in sdata.obs['level_3'].values:\n",
    "        current_order.append(current_type)\n",
    "        current_cpl.append(sdata.uns['level_3_color_list'][i])\n",
    "        \n",
    "sns.palplot(current_cpl)\n",
    "plt.xticks(range(len(current_order)), current_order, size=10, rotation=45)\n",
    "plt.tight_layout()\n",
    "plt.show()"
   ]
  },
  {
   "cell_type": "code",
   "execution_count": null,
   "id": "7d89246c-4ad0-4ed6-8ef1-b19727e0e1ea",
   "metadata": {},
   "outputs": [],
   "source": [
    "fig, ax = plt.subplots(figsize=(10, 7))\n",
    "sc.pl.umap(sdata, color='level_3', frameon=False, legend_loc=False, ax=ax, title='',\n",
    "           save=False)"
   ]
  },
  {
   "cell_type": "code",
   "execution_count": null,
   "id": "d87cee84-6c2b-464d-a2da-4681f6438a35",
   "metadata": {},
   "outputs": [],
   "source": [
    "sc.set_figure_params(format='pdf', dpi=150)\n",
    "\n",
    "fig, ax = plt.subplots(figsize=(10, 7))\n",
    "sc.pl.umap(sdata, color='level_3', frameon=False, legend_loc=False, ax=ax, title='',\n",
    "           save=f'_{sub_id}_no_legend')\n",
    "\n",
    "fig, ax = plt.subplots(figsize=(10, 7))\n",
    "sc.pl.umap(sdata, color='level_3', frameon=False, legend_loc='right margin', ax=ax, title='',\n",
    "           save=f'_{sub_id}_legend')\n",
    "\n",
    "fig, ax = plt.subplots(figsize=(10, 7))\n",
    "sc.pl.umap(sdata, color='level_3', frameon=False, legend_loc='on data', ax=ax, title='', \n",
    "           legend_fontsize=8, legend_fontoutline=2,\n",
    "           save=f'_{sub_id}_on_data')"
   ]
  },
  {
   "cell_type": "code",
   "execution_count": null,
   "id": "e0fed63a-8f55-4365-bceb-0ab922f0a91f",
   "metadata": {},
   "outputs": [],
   "source": [
    "# Get markers for each cluster\n",
    "sc.tl.rank_genes_groups(sdata, 'level_3', method='wilcoxon', pts=True)\n",
    "\n",
    "# Filter markers\n",
    "sc.tl.filter_rank_genes_groups(sdata, min_fold_change=.1)"
   ]
  },
  {
   "cell_type": "code",
   "execution_count": null,
   "id": "fe16f3f6-1de5-4936-933a-726ecaf83644",
   "metadata": {},
   "outputs": [],
   "source": [
    "sc.set_figure_params(format='pdf', dpi=150)\n",
    "sc.pl.rank_genes_groups_heatmap(sdata, n_genes=5, groupby='level_3', min_logfoldchange=.1, use_raw=False, swap_axes=True, \n",
    "                                vmin=-5, vmax=5, cmap='bwr', show_gene_labels=True, key='rank_genes_groups_filtered', \n",
    "                                dendrogram=False, figsize=(30, 20), save=f'_{sub_id}')"
   ]
  },
  {
   "cell_type": "markdown",
   "id": "52a66643-f2be-4f3b-86fc-704a69c6255a",
   "metadata": {
    "tags": []
   },
   "source": [
    "#### spatial map"
   ]
  },
  {
   "cell_type": "code",
   "execution_count": null,
   "id": "aa598aa7-bfbc-4e1f-b573-fdb669b7f9ad",
   "metadata": {},
   "outputs": [],
   "source": [
    "clustermap_center_path = os.path.join(base_path, 'RIBOmap', 'cell_center_polished.csv')\n",
    "cell_center_df = pd.read_csv(clustermap_center_path, index_col=0)"
   ]
  },
  {
   "cell_type": "code",
   "execution_count": null,
   "id": "9a031d5d-ac38-40ac-902f-585b8fa9042b",
   "metadata": {
    "tags": []
   },
   "outputs": [],
   "source": [
    "save_as = True\n",
    "sc.set_figure_params(format='tif', dpi=150)\n",
    "\n",
    "dot_size = 12\n",
    "fig, ax = plt.subplots(figsize=(18, 23))\n",
    "sns.scatterplot(x='column', y='row', data=cell_center_df, color='#ededed', s=dot_size, legend=False, edgecolor=None, ax=ax)\n",
    "sns.scatterplot(x='column', y='row', hue='level_3', data=sdata.obs, palette=current_cpl, s=dot_size, edgecolor=None, legend=False, ax=ax)\n",
    "ax.axis('off')\n",
    "plt.tight_layout(pad=0)\n",
    "\n",
    "if save_as:\n",
    "    plt.savefig(os.path.join(fig_path, f'spatial-map-{sub_id}.tif'))\n",
    "plt.show()"
   ]
  },
  {
   "cell_type": "code",
   "execution_count": null,
   "id": "2ec66a93-2c84-4eae-8839-1f6c8cfd1de1",
   "metadata": {},
   "outputs": [],
   "source": [
    "save_as = True\n",
    "sc.set_figure_params(format='tif', dpi=150)\n",
    "dot_size = 20\n",
    "\n",
    "for current_type in tqdm(current_order):\n",
    "    \n",
    "    fig, ax = plt.subplots(figsize=(18, 23))\n",
    "    sns.scatterplot(x='column', y='row', data=cell_center_df, color='#ededed', s=dot_size, legend=False, edgecolor=None, ax=ax)\n",
    "    sns.scatterplot(x='column', y='row', hue='level_3', data=sdata.obs.loc[sdata.obs['level_3'] == current_type, :], palette=current_cpl, s=dot_size, edgecolor=None, legend=False, ax=ax)\n",
    "    ax.axis('off')\n",
    "    plt.tight_layout(pad=0)\n",
    "\n",
    "    if save_as:\n",
    "        current_file_name = current_type.replace('/', '_')\n",
    "        plt.savefig(os.path.join(sub_level_fig_path, f'spatial-map-{current_file_name}.tif'))\n",
    "    plt.close()\n",
    "    # plt.show()\n",
    "    "
   ]
  },
  {
   "cell_type": "code",
   "execution_count": null,
   "id": "a12562ff-0c32-4a36-8bb9-f57ca76d8900",
   "metadata": {},
   "outputs": [],
   "source": []
  },
  {
   "cell_type": "code",
   "execution_count": null,
   "id": "4fc10b84-a38a-404e-92b0-3bdc34ff3bfe",
   "metadata": {},
   "outputs": [],
   "source": []
  }
 ],
 "metadata": {
  "kernelspec": {
   "display_name": "Python 3 (ipykernel)",
   "language": "python",
   "name": "python3"
  },
  "language_info": {
   "codemirror_mode": {
    "name": "ipython",
    "version": 3
   },
   "file_extension": ".py",
   "mimetype": "text/x-python",
   "name": "python",
   "nbconvert_exporter": "python",
   "pygments_lexer": "ipython3",
   "version": "3.8.12"
  }
 },
 "nbformat": 4,
 "nbformat_minor": 5
}
