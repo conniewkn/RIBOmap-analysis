{
 "cells": [
  {
   "cell_type": "markdown",
   "id": "06b0486e-dc94-43e3-8b50-6fcf09957f2e",
   "metadata": {
    "tags": []
   },
   "source": [
    "# Cell type classification"
   ]
  },
  {
   "cell_type": "code",
   "execution_count": null,
   "id": "a1f10f37-42e8-4bbf-b338-c9fa0e7d8e5e",
   "metadata": {},
   "outputs": [],
   "source": [
    "# Import Packages\n",
    "\n",
    "%load_ext autoreload\n",
    "%autoreload 2\n",
    "\n",
    "import os\n",
    "import warnings \n",
    "warnings.filterwarnings('ignore')\n",
    "import numpy as np\n",
    "import pandas as pd\n",
    "import scanpy as sc\n",
    "import seaborn as sns\n",
    "import matplotlib.pyplot as plt\n",
    "# from skimage.filters import threshold_otsu, gaussian\n",
    "# from skimage.morphology import remove_small_objects\n",
    "from matplotlib.colors import ListedColormap\n",
    "from anndata import AnnData, concat\n",
    "\n",
    "# Customized packages\n",
    "from starmap.utilities import *\n",
    "# from starmap.sequencing import *\n",
    "# from starmap.obj import STARMapDataset, load_data\n",
    "# import starmap.analyze as anz\n",
    "# import starmap.viz as viz\n",
    "import starmap.sc_util as su\n",
    "\n",
    "# test()"
   ]
  },
  {
   "cell_type": "code",
   "execution_count": null,
   "id": "b0942072-cbb0-49b9-b520-555ef53accff",
   "metadata": {
    "tags": []
   },
   "outputs": [],
   "source": [
    "# Get functions \n",
    "\n",
    "import colorsys\n",
    "from random import shuffle\n",
    "\n",
    "def intervals(parts, start_point, end_point):\n",
    "    duration = end_point - start_point\n",
    "    part_duration = duration / parts\n",
    "    return [((i * part_duration + (i + 1) * part_duration)/2) + start_point for i in range(parts)]"
   ]
  },
  {
   "cell_type": "markdown",
   "id": "2f90c807-bfd9-439c-911d-1368fd2d248b",
   "metadata": {
    "tags": []
   },
   "source": [
    "## IO"
   ]
  },
  {
   "cell_type": "code",
   "execution_count": null,
   "id": "2d13a65c-e622-40f1-ae30-63bc735f5d98",
   "metadata": {},
   "outputs": [],
   "source": [
    "# Set path\n",
    "base_path = 'Z:/Data/Analyzed/2021-11-23-Hu-MouseBrain/'\n",
    "out_path = os.path.join(base_path, 'output')\n",
    "fig_path = os.path.join(base_path, 'figures')\n",
    "\n",
    "out_path = os.path.join(base_path, 'output')\n",
    "if not os.path.exists(out_path):\n",
    "    os.mkdir(out_path)\n",
    "    \n",
    "fig_path = os.path.join(base_path, 'figures')\n",
    "if not os.path.exists(fig_path):\n",
    "    os.mkdir(fig_path)"
   ]
  },
  {
   "cell_type": "markdown",
   "id": "128803e3-83db-4f6c-a02b-847c1841ba91",
   "metadata": {},
   "source": [
    "## Input"
   ]
  },
  {
   "cell_type": "code",
   "execution_count": null,
   "id": "ff7d9907-0e11-4ede-8017-57179a618e2e",
   "metadata": {},
   "outputs": [],
   "source": [
    "adata = sc.read_h5ad(os.path.join(out_path, '2022-03-12-Hu-TissueRIBOmap-4mad-filtered.h5ad'))\n",
    "adata"
   ]
  },
  {
   "cell_type": "markdown",
   "id": "72559731-bce1-4ea5-acff-2783cbdfdbc7",
   "metadata": {
    "tags": []
   },
   "source": [
    "## Preprocessing"
   ]
  },
  {
   "cell_type": "code",
   "execution_count": null,
   "id": "f71b859d-5f97-42ab-a7bd-88d8a51b50bf",
   "metadata": {},
   "outputs": [],
   "source": [
    "# Normalization scaling\n",
    "sc.pp.normalize_total(adata)\n",
    "sc.pp.log1p(adata)\n",
    "\n",
    "adata.layers['norm'] = adata.X\n",
    "adata.raw = adata"
   ]
  },
  {
   "cell_type": "code",
   "execution_count": null,
   "id": "76eb5410-8352-481f-8f77-5172332bfcb0",
   "metadata": {},
   "outputs": [],
   "source": [
    "adata.layers['norm'].min()"
   ]
  },
  {
   "cell_type": "code",
   "execution_count": null,
   "id": "e3adf47b-c9c5-42ce-b3ec-95ff3c462b6f",
   "metadata": {},
   "outputs": [],
   "source": [
    "# Scale data to unit variance and zero mean\n",
    "sc.pp.scale(adata)\n",
    "adata.layers['scaled'] = adata.X\n",
    "\n",
    "# Batch correction\n",
    "# sc.pp.combat(adata)\n",
    "# adata.layers['corrected'] = adata.X"
   ]
  },
  {
   "cell_type": "code",
   "execution_count": null,
   "id": "2ed4cb71-e141-42ca-8e73-637d4831a65f",
   "metadata": {},
   "outputs": [],
   "source": [
    "adata"
   ]
  },
  {
   "cell_type": "markdown",
   "id": "3340f2b9-68cf-4708-9e8c-b375e5035a9f",
   "metadata": {},
   "source": [
    "## Level_1 clustering"
   ]
  },
  {
   "cell_type": "markdown",
   "id": "58b934b0-6a0e-4eb6-9aa0-9c7d875a7bc0",
   "metadata": {},
   "source": [
    "### clustering"
   ]
  },
  {
   "cell_type": "code",
   "execution_count": null,
   "id": "2ca60772-97f1-4465-b2b0-0eeb67b42610",
   "metadata": {},
   "outputs": [],
   "source": [
    "# Run PCA\n",
    "sc.tl.pca(adata, svd_solver='arpack', use_highly_variable=True)\n",
    "\n",
    "# Plot explained variance \n",
    "sc.pl.pca_variance_ratio(adata, log=False)"
   ]
  },
  {
   "cell_type": "code",
   "execution_count": null,
   "id": "7a2315fa-31c4-4924-a380-6e28936ea98f",
   "metadata": {},
   "outputs": [],
   "source": [
    "# Plot PCA\n",
    "sc.pl.pca(adata, color='protocol')"
   ]
  },
  {
   "cell_type": "code",
   "execution_count": null,
   "id": "ce75c707-7b2d-4af6-8303-14c09f9854e3",
   "metadata": {},
   "outputs": [],
   "source": [
    "%%time\n",
    "# Computing the neighborhood graph\n",
    "n_neighbors = 50\n",
    "n_pcs = 30 ## 30\n",
    "min_dist = 0.05\n",
    "\n",
    "sc.pp.neighbors(adata, n_neighbors=n_neighbors, n_pcs=n_pcs)\n",
    "\n",
    "# Run UMAP\n",
    "sc.tl.umap(adata, min_dist=min_dist, random_state=0) ## 0.5"
   ]
  },
  {
   "cell_type": "code",
   "execution_count": null,
   "id": "cca6c2ca-3524-4e82-b951-b43ef97294c0",
   "metadata": {},
   "outputs": [],
   "source": [
    "%%time\n",
    "# Run leiden cluster\n",
    "cluster_resolution = 1\n",
    "sc.tl.leiden(adata, resolution = cluster_resolution, random_state=0)\n",
    "\n",
    "# Plot UMAP with cluster labels \n",
    "sc.pl.umap(adata, color='leiden')\n",
    "n_clusters = adata.obs['leiden'].unique().shape[0]\n",
    "\n",
    "# Save log\n",
    "with open(f'{fig_path}/log.txt', 'w') as f:\n",
    "    f.write(f\"\"\"Number of neighbor: {n_neighbors}\n",
    "Number of PC: {n_pcs}\n",
    "Resolution: {cluster_resolution}\n",
    "Min-distance: {min_dist}\n",
    "Number of clusters: {n_clusters}\"\"\")"
   ]
  },
  {
   "cell_type": "code",
   "execution_count": null,
   "id": "76ad94ea-5de3-4c26-a584-c45dd6d31fc8",
   "metadata": {
    "tags": []
   },
   "outputs": [],
   "source": [
    "# Plot single meta UMAP\n",
    "sc.pl.umap(adata, color='protocol')"
   ]
  },
  {
   "cell_type": "code",
   "execution_count": null,
   "id": "3cd16fa1-f5f7-4de4-a46e-de7b6bd4578a",
   "metadata": {},
   "outputs": [],
   "source": [
    "sc.pl.umap(adata, color='total_counts')\n",
    "sc.pl.umap(adata, color='n_genes')"
   ]
  },
  {
   "cell_type": "code",
   "execution_count": null,
   "id": "bb86a8f3-99de-4025-be6b-5b646c5cb788",
   "metadata": {},
   "outputs": [],
   "source": [
    "# Get colormap\n",
    "cluster_pl = sns.color_palette(\"hls\", n_clusters)\n",
    "cluster_cmap = ListedColormap(cluster_pl.as_hex())\n",
    "sns.palplot(cluster_pl)"
   ]
  },
  {
   "cell_type": "code",
   "execution_count": null,
   "id": "90a9547a-3840-432c-8e72-60331d64c857",
   "metadata": {},
   "outputs": [],
   "source": [
    "# Get markers for each cluster\n",
    "sc.tl.rank_genes_groups(adata, 'leiden', method='wilcoxon', pts=True)"
   ]
  },
  {
   "cell_type": "code",
   "execution_count": null,
   "id": "4a94d663-5e1e-4c93-ba54-59497efe923a",
   "metadata": {},
   "outputs": [],
   "source": [
    "# Filter markers\n",
    "sc.tl.filter_rank_genes_groups(adata, min_fold_change=1)"
   ]
  },
  {
   "cell_type": "code",
   "execution_count": null,
   "id": "87e40254-f6f3-4bca-a6b3-346b37098bf0",
   "metadata": {},
   "outputs": [],
   "source": [
    "current_leiden_group = '6'\n",
    "\n",
    "current_df = sc.get.rank_genes_groups_df(adata, group=current_leiden_group, key='rank_genes_groups')\n",
    "current_df.head(10)"
   ]
  },
  {
   "cell_type": "code",
   "execution_count": null,
   "id": "6c48818b-aeee-4059-9aec-d3aa2c4b62ed",
   "metadata": {},
   "outputs": [],
   "source": [
    "# Dot plot mean expression (##)\n",
    "sc.pl.rank_genes_groups_dotplot(adata, key='rank_genes_groups_filtered', n_genes=5, dendrogram=False)"
   ]
  },
  {
   "cell_type": "code",
   "execution_count": null,
   "id": "fe664f7a-78a2-4b8f-8b59-a07da53485d4",
   "metadata": {},
   "outputs": [],
   "source": [
    "# Other type of plots\n",
    "# Plot z-score heatmap\n",
    "sc.pl.rank_genes_groups_heatmap(adata, n_genes=5, groupby='leiden', min_logfoldchange=1, use_raw=False, swap_axes=True, \n",
    "                                vmin=-5, vmax=5, cmap='bwr', show_gene_labels=True,\n",
    "                                dendrogram=False, figsize=(30, 20), save=False)"
   ]
  },
  {
   "cell_type": "code",
   "execution_count": null,
   "id": "aee80c5f-1f80-4aa8-b330-5ca0c298c91f",
   "metadata": {},
   "outputs": [],
   "source": [
    "sc.pl.rank_genes_groups_heatmap(adata, n_genes=5, groupby='leiden', min_logfoldchange=1, use_raw=False, swap_axes=True, \n",
    "                                vmin=-5, vmax=5, cmap='bwr', show_gene_labels=True, key='rank_genes_groups_filtered', \n",
    "                                dendrogram=False, figsize=(30, 20), save=False)"
   ]
  },
  {
   "cell_type": "code",
   "execution_count": null,
   "id": "9d3c3504-77ac-45dc-aaf2-c4d8c0a4bde1",
   "metadata": {
    "tags": []
   },
   "outputs": [],
   "source": [
    "gene_list = ['Slc17a7', 'Gad1', 'Gad2', 'Sst', 'Pvalb', 'Slc1a3', 'Aldoc', 'Bsg', 'Ctss', 'Plp1', 'Mobp', 'Pdgfra', 'Dcn', 'Vim', 'Gfap']\n",
    "\n",
    "fig, axs = plt.subplots(nrows=3, ncols=5, figsize=(25, 12))\n",
    "axs = axs.flatten()\n",
    "for i, gene in enumerate(gene_list):\n",
    "    ax = sc.pl.umap(adata, color=gene, title=gene, ax=axs[i], show=False)\n",
    "    \n",
    "plt.show()"
   ]
  },
  {
   "cell_type": "markdown",
   "id": "141338ac-20b8-4b6a-8e2f-52e4f9eb01c1",
   "metadata": {},
   "source": [
    "### assign label"
   ]
  },
  {
   "cell_type": "code",
   "execution_count": null,
   "id": "8c21a11b-bada-46eb-92a6-7a0baff3dfed",
   "metadata": {},
   "outputs": [],
   "source": [
    "# Print markers \n",
    "markers = []\n",
    "temp = pd.DataFrame(adata.uns['rank_genes_groups']['names']).head(10)\n",
    "for i in range(temp.shape[1]):\n",
    "    curr_col = temp.iloc[:, i].to_list()\n",
    "    markers = markers + curr_col\n",
    "    # print(i, curr_col)\n",
    "    print(i)\n",
    "    for j in curr_col:\n",
    "        print(j, end=',')\n",
    "    print('')"
   ]
  },
  {
   "cell_type": "code",
   "execution_count": null,
   "id": "3eaa57aa-5ef3-415a-9426-93f6941e0375",
   "metadata": {
    "tags": []
   },
   "outputs": [],
   "source": [
    "# Plot UMAP with cluster labels w/ new color\n",
    "fig, ax = plt.subplots(figsize=(10,7))\n",
    "sc.pl.umap(adata, color='leiden', legend_loc='on data',\n",
    "           legend_fontsize=12, legend_fontoutline=2, frameon=False, \n",
    "           title='Top level clustering (leiden)', palette=cluster_pl, save=False, ax=ax)"
   ]
  },
  {
   "cell_type": "code",
   "execution_count": null,
   "id": "47b2c451-ed59-482e-b391-c8fc97670d9f",
   "metadata": {
    "tags": []
   },
   "outputs": [],
   "source": [
    "fig, ax = plt.subplots(figsize=(10, 10))\n",
    "sns.scatterplot(x='column', y='row', hue='leiden', data=adata.obs, palette=cluster_pl, s=2, legend=False)\n",
    "ax.axis('off')\n",
    "plt.show()"
   ]
  },
  {
   "cell_type": "code",
   "execution_count": null,
   "id": "cd048a22-b74a-417e-827f-5c49b6bf3a10",
   "metadata": {
    "tags": []
   },
   "outputs": [],
   "source": [
    "# Plot single cluster\n",
    "fig, ax = plt.subplots(figsize=(10, 10))\n",
    "sns.scatterplot(x='column', y='row', hue='leiden', data=adata.obs.loc[adata.obs['leiden'] == '10', :], palette='tab20', s=2, legend=False, ax=ax)\n",
    "ax.axis('off')\n",
    "plt.show()"
   ]
  },
  {
   "cell_type": "code",
   "execution_count": null,
   "id": "7d3b79ba-6961-41cd-b680-57effbf3e26e",
   "metadata": {},
   "outputs": [],
   "source": [
    "# Change cluster label to cell type label\n",
    "transfer_dict = {}\n",
    "level_1_list = ['Neuron', 'Neuron', 'Neuron', 'Vascular cells', 'Glia', 'Glia', 'Neuron', 'Glia', 'Neuron', 'Glia', \n",
    "                'Neuron', 'Neuron', 'Glia', 'Vascular cells', 'Neuron', 'Neuron', 'Neuron', 'Glia', 'Glia',\n",
    "               'Neuron', 'Vascular cells']\n",
    "\n",
    "for i in sorted(adata.obs['leiden'].unique()):\n",
    "    transfer_dict[i] = level_1_list[int(i)]"
   ]
  },
  {
   "cell_type": "code",
   "execution_count": null,
   "id": "995029e6-63c1-4b3b-84d7-238d8ecdaa44",
   "metadata": {},
   "outputs": [],
   "source": [
    "# Print markers \n",
    "markers = []\n",
    "temp = pd.DataFrame(adata.uns['rank_genes_groups']['names']).head(10)\n",
    "for i in range(temp.shape[1]):\n",
    "    curr_col = temp.iloc[:, i].to_list()\n",
    "    markers = markers + curr_col\n",
    "    # print(i, curr_col)\n",
    "    print(f\"{i} - {level_1_list[i]}\")\n",
    "    for j in curr_col:\n",
    "        print(j, end=',')\n",
    "    print('')"
   ]
  },
  {
   "cell_type": "code",
   "execution_count": null,
   "id": "b5d93233-b96e-41c5-a5a2-b25f2a530923",
   "metadata": {},
   "outputs": [],
   "source": [
    "# Assign cell type to sdata\n",
    "adata.obs['level_1'] = adata.obs['leiden'].values\n",
    "adata.obs = adata.obs.replace({'level_1': transfer_dict})\n",
    "\n",
    "# Remove NA \n",
    "adata = adata[adata.obs['level_1'] != 'NA', :]\n",
    "\n",
    "# Sort category\n",
    "level_1_order = ['Neuron', 'Glia', 'Vascular cells']\n",
    "\n",
    "adata.obs['level_1'] = adata.obs['level_1'].astype('category')\n",
    "adata.obs['level_1'].cat.reorder_categories(level_1_order, inplace=True)"
   ]
  },
  {
   "cell_type": "code",
   "execution_count": null,
   "id": "3584f801-f53d-40f1-8464-ae738ceb95fe",
   "metadata": {},
   "outputs": [],
   "source": [
    "# Check color legend\n",
    "level_1_order = ['Neuron', 'Glia']\n",
    "adata.obs['level_1'] = adata.obs['level_1'].astype(object)\n",
    "adata.obs['level_1'] = adata.obs['level_1'].astype('category')\n",
    "adata.obs['level_1'] = adata.obs['level_1'].cat.reorder_categories(level_1_order)\n",
    "level_1_pl = sns.color_palette(\"hls\", 2)\n",
    "sns.palplot(level_1_pl, size=3)\n",
    "plt.xticks(range(len(level_1_order)), level_1_order, size=10, rotation=45)\n",
    "plt.tight_layout()\n",
    "# plt.savefig(f'./figures/color_legend_top.png')\n",
    "plt.show()"
   ]
  },
  {
   "cell_type": "code",
   "execution_count": null,
   "id": "939e372b-0cee-4b0d-a048-03084de04e75",
   "metadata": {},
   "outputs": [],
   "source": [
    "# Save plots\n",
    "# Plot UMAP with cluster labels w/ new color\n",
    "sc.pl.umap(adata, color='level_1', legend_loc='on data',\n",
    "           legend_fontsize=12, legend_fontoutline=2, frameon=False, \n",
    "           title='Level 1 clustering', palette=level_1_pl, save=False)\n",
    "\n",
    "# sc.tl.rank_genes_groups(adata, 'level_1', method='wilcoxon')\n",
    "\n",
    "# # Plot z-score heatmap\n",
    "# sc.pl.rank_genes_groups_heatmap(adata, n_genes=5, groupby='top_level', min_logfoldchange=1, use_raw=False, swap_axes=True, \n",
    "#                                 vmin=-5, vmax=5, cmap='bwr', show_gene_labels=True,\n",
    "#                                 dendrogram=False, figsize=(30, 15), save=False)"
   ]
  },
  {
   "cell_type": "code",
   "execution_count": null,
   "id": "de34509d-f133-4cb9-8526-b00ab4235c1d",
   "metadata": {},
   "outputs": [],
   "source": [
    "fig, ax = plt.subplots(figsize=(10, 10))\n",
    "sns.scatterplot(x='column', y='row', hue='level_1', data=adata.obs, palette=level_1_pl, s=2, legend=False)\n",
    "ax.axis('off')\n",
    "plt.show()"
   ]
  },
  {
   "cell_type": "code",
   "execution_count": null,
   "id": "ce2cf76f-4c48-49c7-87f4-f4d6d933149a",
   "metadata": {},
   "outputs": [],
   "source": [
    "sc.pl.dotplot(adata, ['Slc17a7', 'Gad1', 'Gad2', 'Plp1', 'Mbp', 'Aldoc'], 'level_1', dendrogram=False)"
   ]
  },
  {
   "cell_type": "code",
   "execution_count": null,
   "id": "ba8ddb90-cf79-4c38-abd7-ac8eaa239e5a",
   "metadata": {},
   "outputs": [],
   "source": [
    "# backup \n",
    "from datetime import datetime\n",
    "date = datetime.today().strftime('%Y-%m-%d')\n",
    "adata.write_h5ad(f\"{out_path}/{date}-Hu-TissueRIBOmap-level1-bk.h5ad\")"
   ]
  },
  {
   "cell_type": "markdown",
   "id": "698e5c16-1224-4f93-b845-7d88cb086708",
   "metadata": {},
   "source": [
    "### plot tile number"
   ]
  },
  {
   "cell_type": "code",
   "execution_count": null,
   "id": "2a25bbec-e6a8-4c9b-8e8e-477429af7527",
   "metadata": {},
   "outputs": [],
   "source": [
    "# load coords_df\n",
    "coords_df4 = pd.read_csv('Z:/jiahao/Github/RIBOmap/segmentation-stitching/RIBOmap/results/tuned_coords.csv', index_col=0)\n",
    "coords_df4 = coords_df4.loc[coords_df4['tile'] != 0, :]\n",
    "coords_df4"
   ]
  },
  {
   "cell_type": "code",
   "execution_count": null,
   "id": "1f217629-41cb-4b90-939c-0135d88de18f",
   "metadata": {
    "tags": []
   },
   "outputs": [],
   "source": [
    "# tile_col = coords_df4['column'].values + 1000\n",
    "tile_row = coords_df4['row'].values + 1000\n",
    "\n",
    "fig, ax = plt.subplots(figsize=(20,20))\n",
    "plt.scatter(adata.obs['row'], adata.obs['column'], s=1, c='r')\n",
    "for i in range(coords_df4.shape[0]):\n",
    "    plt.text(tile_row[i], tile_col[i], s=coords_df4['tile'].astype(str).to_list()[i])\n",
    "ax.set_aspect('equal')\n",
    "plt.show()"
   ]
  },
  {
   "cell_type": "markdown",
   "id": "29ba48c7-f6b2-4435-8e18-9342d5d152b7",
   "metadata": {},
   "source": [
    "## Level_2 clustering"
   ]
  },
  {
   "cell_type": "code",
   "execution_count": null,
   "id": "beb0f2a1-d406-4e62-81db-412da06cb105",
   "metadata": {},
   "outputs": [],
   "source": [
    "# Load backup dataset \n",
    "adata = sc.read_h5ad(os.path.join(out_path, '2022-03-16-Hu-TissueRIBOmap-level1-bk.h5ad'))\n",
    "adata"
   ]
  },
  {
   "cell_type": "code",
   "execution_count": null,
   "id": "eb22f5f6-a060-4eb4-ad2c-8980273c329e",
   "metadata": {},
   "outputs": [],
   "source": [
    "# Embedding parameters\n",
    "emb_dict = {\n",
    "    'Neuron': {'n_neighbors': 50, 'n_pcs': 10, 'min_dist': .1, 'cluster_resolution': 2},\n",
    "    'Glia': {'n_neighbors': 50, 'n_pcs': 15, 'min_dist': .1, 'cluster_resolution': 1.2},\n",
    "}\n",
    "\n",
    "save_embedding = False"
   ]
  },
  {
   "cell_type": "code",
   "execution_count": null,
   "id": "ee026598-0188-4c74-a709-1fd50c65221f",
   "metadata": {},
   "outputs": [],
   "source": [
    "# Subset\n",
    "sub_id = 'Glia'\n",
    "curr_cells = adata.obs['level_1'] == sub_id\n",
    "sdata = adata[curr_cells, :]\n",
    "sdata"
   ]
  },
  {
   "cell_type": "code",
   "execution_count": null,
   "id": "9108f76c-3929-40ef-8fab-26c83cfb399a",
   "metadata": {},
   "outputs": [],
   "source": [
    "sub_level_fig_path = os.path.join(fig_path, sub_id)\n",
    "if not os.path.exists(sub_level_fig_path):\n",
    "    os.mkdir(sub_level_fig_path)"
   ]
  },
  {
   "cell_type": "markdown",
   "id": "bcc23e10-bd26-4be5-8699-0a916fc107f2",
   "metadata": {},
   "source": [
    "### clustering"
   ]
  },
  {
   "cell_type": "code",
   "execution_count": null,
   "id": "260e4fba-8401-4e4d-a2f4-fbe798bd3066",
   "metadata": {},
   "outputs": [],
   "source": [
    "# Run PCA\n",
    "sc.tl.pca(sdata, svd_solver='arpack', use_highly_variable=True)\n",
    "\n",
    "# Plot explained variance \n",
    "sc.pl.pca_variance_ratio(sdata, log=False)\n",
    "\n",
    "# Plot PCA\n",
    "sc.pl.pca(sdata, color='protocol')"
   ]
  },
  {
   "cell_type": "code",
   "execution_count": null,
   "id": "610c12e7-5d3c-4277-9bf8-7b6951f88dde",
   "metadata": {},
   "outputs": [],
   "source": [
    "%%time\n",
    "# Computing the neighborhood graph\n",
    "n_neighbors = emb_dict[sub_id]['n_neighbors']\n",
    "n_pcs = emb_dict[sub_id]['n_pcs']\n",
    "min_dist = emb_dict[sub_id]['min_dist']\n",
    "\n",
    "sc.pp.neighbors(sdata, n_neighbors=n_neighbors, n_pcs=n_pcs, random_state=0)\n",
    "\n",
    "# Run UMAP\n",
    "sc.tl.umap(sdata, min_dist=min_dist, random_state=0)\n",
    "sc.tl.diffmap(sdata, n_comps=n_pcs, random_state=0)"
   ]
  },
  {
   "cell_type": "code",
   "execution_count": null,
   "id": "74aec725-8de0-4b4d-b3bd-810f62f8fc48",
   "metadata": {},
   "outputs": [],
   "source": [
    "%%time\n",
    "# Run leiden cluster\n",
    "cluster_resolution = emb_dict[sub_id]['cluster_resolution']\n",
    "sc.tl.leiden(sdata, resolution = cluster_resolution)\n",
    "\n",
    "# Plot UMAP with cluster labels \n",
    "sc.pl.umap(sdata, color='leiden')\n",
    "sc.pl.diffmap(sdata, color='leiden')\n",
    "n_clusters = sdata.obs['leiden'].unique().shape[0]\n",
    "\n",
    "if save_embedding:\n",
    "    # Save log\n",
    "    with open(f'{fig_path}/log_{sub_id}.txt', 'w') as f:\n",
    "        f.write(f\"\"\"Number of neighbor: {n_neighbors}\n",
    "    Number of PC: {n_pcs}\n",
    "    Resolution: {cluster_resolution}\n",
    "    Min-distance: {min_dist}\n",
    "    Number of clusters: {n_clusters}\"\"\")\n",
    "\n",
    "    # save embeddings\n",
    "    np.savetxt(f'{fig_path}/embedding_{sub_id}_umap.csv', sdata.obsm['X_umap'], delimiter=\",\")\n",
    "    np.savetxt(f'{fig_path}/embedding_{sub_id}_diffmap.csv', sdata.obsm['X_diffmap'], delimiter=\",\")"
   ]
  },
  {
   "cell_type": "code",
   "execution_count": null,
   "id": "cd413b9f-93f1-403b-8b0d-259963ce1642",
   "metadata": {},
   "outputs": [],
   "source": [
    "# sc.pl.dotplot(sdata, ['Slc17a7', 'Gad1', 'Gad2'], 'leiden', dendrogram=False)\n",
    "sc.pl.dotplot(sdata, ['Plp1', 'Mbp', 'Gfap', 'Ctss'], 'leiden', dendrogram=False)"
   ]
  },
  {
   "cell_type": "code",
   "execution_count": null,
   "id": "bc973b2b-9d55-4c06-b74a-84999fdff775",
   "metadata": {},
   "outputs": [],
   "source": [
    "# Get colormap\n",
    "cluster_pl = sns.color_palette(\"hls\", n_clusters)\n",
    "cluster_cmap = ListedColormap(cluster_pl.as_hex())\n",
    "sns.palplot(cluster_pl)"
   ]
  },
  {
   "cell_type": "code",
   "execution_count": null,
   "id": "d365535f-73b0-4246-967a-5e95316ece5d",
   "metadata": {},
   "outputs": [],
   "source": [
    "# Add log layer\n",
    "sdata.layers['log_raw'] = np.log1p(sdata.layers['raw'])\n",
    "sc.pp.normalize_total(sdata, layer='log_raw')\n",
    "\n",
    "# Find gene markers for each cluster\n",
    "sc.tl.rank_genes_groups(sdata, 'leiden', method='wilcoxon', layer='log_raw', pts=True, use_raw=False, n_genes=adata.shape[1])\n",
    "\n",
    "# Filter markers\n",
    "sc.tl.filter_rank_genes_groups(sdata, min_fold_change=.1, min_in_group_fraction=0.2, max_out_group_fraction=0.8)"
   ]
  },
  {
   "cell_type": "code",
   "execution_count": null,
   "id": "302a080e-8687-40c0-9850-88078f7b8be8",
   "metadata": {},
   "outputs": [],
   "source": [
    "current_cell_type = '15'\n",
    "\n",
    "current_df = sc.get.rank_genes_groups_df(sdata, group=current_cell_type, key='rank_genes_groups')\n",
    "current_df"
   ]
  },
  {
   "cell_type": "code",
   "execution_count": null,
   "id": "44530e31-94c2-4350-b948-6082bc302fc6",
   "metadata": {},
   "outputs": [],
   "source": [
    "# Dot plot logfoldchanges\n",
    "sc.pl.rank_genes_groups_dotplot(sdata, key='rank_genes_groups', n_genes=5, values_to_plot='logfoldchanges', min_logfoldchange=1, vmax=5, vmin=-5, cmap='bwr', dendrogram=False)"
   ]
  },
  {
   "cell_type": "code",
   "execution_count": null,
   "id": "97d590b1-8db5-4a3f-8761-6525a013e4e4",
   "metadata": {},
   "outputs": [],
   "source": [
    "# Dot plot mean expression (##)\n",
    "sc.pl.rank_genes_groups_dotplot(sdata, key='rank_genes_groups_filtered', n_genes=5, dendrogram=False)"
   ]
  },
  {
   "cell_type": "code",
   "execution_count": null,
   "id": "2e26101f-a85d-4bc0-a613-cf8980e06757",
   "metadata": {},
   "outputs": [],
   "source": [
    "# Dot plot mean expression (##)\n",
    "sc.pl.dotplot(sdata, ['Slc17a7', 'Gad1', 'Gfap'], 'leiden', dendrogram=False)"
   ]
  },
  {
   "cell_type": "code",
   "execution_count": null,
   "id": "001a272d-8e98-4cb8-a1f5-c037b0b680ab",
   "metadata": {},
   "outputs": [],
   "source": [
    "# Print markers \n",
    "markers = []\n",
    "temp = pd.DataFrame(sdata.uns['rank_genes_groups']['names']).head(15)\n",
    "for i in range(temp.shape[1]):\n",
    "    curr_col = temp.iloc[:, i].to_list()\n",
    "    markers = markers + curr_col\n",
    "    # print(i, curr_col)\n",
    "    print(i)\n",
    "    for j in curr_col:\n",
    "        print(j, end=' ')\n",
    "    print('')"
   ]
  },
  {
   "cell_type": "code",
   "execution_count": null,
   "id": "ff5d314c-851f-412c-88d8-33b70b3f92ab",
   "metadata": {
    "tags": []
   },
   "outputs": [],
   "source": [
    "# Plot UMAP with cluster labels w/ new color\n",
    "fig, ax = plt.subplots(figsize=(10,7))\n",
    "sc.pl.umap(sdata, color='leiden', legend_loc='on data',\n",
    "           legend_fontsize=12, legend_fontoutline=2, frameon=False, \n",
    "           title='Top level clustering (leiden)', palette=cluster_pl, save=False, ax=ax)"
   ]
  },
  {
   "cell_type": "code",
   "execution_count": null,
   "id": "c4c42463-d6c5-4106-bb02-678139c2dbe3",
   "metadata": {
    "tags": []
   },
   "outputs": [],
   "source": [
    "gene_list = ['Slc17a7', 'Gad1', 'Gad2', 'Sst', 'Pvalb', 'Npy', 'Vip', 'Pcp4', 'Cux2', 'Kif5a', 'Slc32a1', 'Nrgn', 'Sncg', 'Rorb', 'Tmsb4x']\n",
    "# gene_list = ['Aqp4', 'Gfap', 'Plp1', 'Mbp', 'Mobp', 'Slc1a3', 'Pdgfra', 'Bsg', 'Vtn', 'Vim']\n",
    "\n",
    "fig, axs = plt.subplots(nrows=3, ncols=5, figsize=(25, 12))\n",
    "axs = axs.flatten()\n",
    "for i, gene in enumerate(gene_list):\n",
    "    ax = sc.pl.umap(sdata, color=gene, title=gene, ax=axs[i], show=False)\n",
    "    \n",
    "plt.show()"
   ]
  },
  {
   "cell_type": "code",
   "execution_count": null,
   "id": "ed6e702a-6e22-4497-9625-96b933a93e92",
   "metadata": {
    "tags": []
   },
   "outputs": [],
   "source": [
    "fig, ax = plt.subplots(figsize=(10, 10))\n",
    "sns.scatterplot(x='column', y='row', hue='leiden', data=sdata.obs, palette=cluster_pl, s=2, legend=False)\n",
    "ax.axis('off')\n",
    "plt.show()"
   ]
  },
  {
   "cell_type": "code",
   "execution_count": null,
   "id": "51baed84-c658-48ff-9281-f1b3d399f296",
   "metadata": {
    "tags": []
   },
   "outputs": [],
   "source": [
    "# Plot single cluster\n",
    "fig, ax = plt.subplots(figsize=(10, 10))\n",
    "sns.scatterplot(x='column', y='row', hue='leiden', data=sdata.obs.loc[sdata.obs['leiden'] == '7', :], palette='tab20', s=2, legend=False, ax=ax)\n",
    "ax.axis('off')\n",
    "plt.show()"
   ]
  },
  {
   "cell_type": "code",
   "execution_count": null,
   "id": "15b1be61-28c9-48e5-9d6b-562b6c253db8",
   "metadata": {
    "scrolled": true,
    "tags": []
   },
   "outputs": [],
   "source": [
    "from natsort import natsorted\n",
    "for current_group in natsorted(sdata.obs['leiden'].unique()):\n",
    "    \n",
    "    # Plot single cluster\n",
    "    fig, ax = plt.subplots(figsize=(10, 10))\n",
    "    sns.scatterplot(x='column', y='row', hue='leiden', data=sdata.obs.loc[sdata.obs['leiden'] == current_group, :], palette=cluster_pl, s=2, legend=False, ax=ax)\n",
    "    ax.title.set_text(current_group)\n",
    "    ax.axis('off')\n",
    "    plt.show()"
   ]
  },
  {
   "cell_type": "markdown",
   "id": "55a90c56-79d1-4d4b-83fc-a3e1268aec30",
   "metadata": {},
   "source": [
    "### assign label"
   ]
  },
  {
   "cell_type": "code",
   "execution_count": null,
   "id": "44985199-3d7a-4c99-9690-fc104f374d8f",
   "metadata": {},
   "outputs": [],
   "source": [
    "# Plot UMAP with cluster labels w/ new color\n",
    "fig, ax = plt.subplots(figsize=(10,7))\n",
    "sc.pl.umap(sdata, color='leiden', legend_loc='on data',\n",
    "           legend_fontsize=12, legend_fontoutline=2, frameon=False, \n",
    "           title=f'Level 2 {sub_id}', palette=cluster_pl, save=False, ax=ax)"
   ]
  },
  {
   "cell_type": "code",
   "execution_count": null,
   "id": "ac0f4a59-1bff-4d1d-9c0b-1cdfd6340c38",
   "metadata": {},
   "outputs": [],
   "source": [
    "# Print markers \n",
    "markers = []\n",
    "temp = pd.DataFrame(sdata.uns['rank_genes_groups_filtered']['names']).head(15)\n",
    "for i in range(temp.shape[1]):\n",
    "    curr_col = temp.iloc[:, i].to_list()\n",
    "    markers = markers + curr_col\n",
    "    # print(i, curr_col)\n",
    "    print(i)\n",
    "    for j in curr_col:\n",
    "        print(j, end=' ')\n",
    "    print('')"
   ]
  },
  {
   "cell_type": "code",
   "execution_count": null,
   "id": "43c56d0b-013c-4f1b-b880-3ac4f1e2c048",
   "metadata": {},
   "outputs": [],
   "source": [
    "# sc.pl.dotplot(sdata, ['Slc17a7', 'Gad1', 'Gad2'], 'leiden', dendrogram=False)\n",
    "sc.pl.dotplot(sdata, ['Plp1', 'Gfap', 'Ctss', 'Bsg', 'Vtn'], 'leiden', dendrogram=False)"
   ]
  },
  {
   "cell_type": "code",
   "execution_count": null,
   "id": "c411e36b-e6e2-417b-acff-53266f997823",
   "metadata": {},
   "outputs": [],
   "source": [
    "# Change cluster label to cell type label\n",
    "transfer_dict = {}\n",
    "\n",
    "# Neuron\n",
    "if sub_id == 'Neuron':\n",
    "    level_2_list = [\n",
    "        'Excitatory neuron', #0\n",
    "        'Inhibitory neuron', #1\n",
    "        'Excitatory neuron', #2\n",
    "        'Excitatory neuron', #3\n",
    "        'Inhibitory neuron', #4\n",
    "        'Excitatory neuron', #5\n",
    "        'Excitatory neuron', #6\n",
    "        'Excitatory neuron', #7\n",
    "        'Excitatory neuron', #8\n",
    "        'Excitatory neuron', #9\n",
    "        'Excitatory neuron', #10\n",
    "        'Inhibitory neuron', #11\n",
    "        'Excitatory neuron', #12\n",
    "        'Excitatory neuron', #13\n",
    "        'Excitatory neuron', #14\n",
    "        'Excitatory neuron', #15\n",
    "        'Inhibitory neuron', #16\n",
    "        'Inhibitory neuron', #17\n",
    "        'Inhibitory neuron', #18\n",
    "        'Inhibitory neuron', #19\n",
    "        'Excitatory neuron', #20\n",
    "        'Inhibitory neuron', #21\n",
    "        'Inhibitory neuron', #22\n",
    "        'Excitatory neuron', #23\n",
    "        'Excitatory neuron'] #24\n",
    "\n",
    "# Glia\n",
    "if sub_id == 'Glia':\n",
    "    level_2_list = ['Oligodendrocyte 1', #0\n",
    "                    'Oligodendrocyte 2', #1\n",
    "                    'Astrocyte 1', #2\n",
    "                    'Pericytes/Vascular endothelial cell 1', #3\n",
    "                    'Astrocyte 2', #4\n",
    "                    'Microglia', #5\n",
    "                    'Oligodendrocyte 3', #6\n",
    "                    'Oligodendrocyte 4', #7\n",
    "                    'Vascular leptomeningeal cell 1', #8\n",
    "                    'Pericytes/Vascular endothelial cell 2', #9\n",
    "                    'Vascular leptomeningeal cell 2', #10\n",
    "                    'Oligodendrocytes precursor cell', #11\n",
    "                    'Vascular leptomeningeal cell 3', #12\n",
    "                    'Astrocyte 3', #13 \n",
    "                    'Ependymal cells', #14\n",
    "                    'Unknown', #15\n",
    "                    'Chorid plexus epithelial cells', #16\n",
    "                    'Vascular leptomeningeal cell 4', #17\n",
    "                   ]\n",
    "\n",
    "\n",
    "for i in sorted(sdata.obs['leiden'].unique()):\n",
    "    transfer_dict[i] = level_2_list[int(i)]"
   ]
  },
  {
   "cell_type": "code",
   "execution_count": null,
   "id": "2276fa06-1fd1-4fb8-808e-dcfe928b7f31",
   "metadata": {},
   "outputs": [],
   "source": [
    "# Print markers \n",
    "markers = []\n",
    "temp = pd.DataFrame(sdata.uns['rank_genes_groups']['names']).head(10)\n",
    "for i in range(temp.shape[1]):\n",
    "    curr_col = temp.iloc[:, i].to_list()\n",
    "    markers = markers + curr_col\n",
    "    # print(i, curr_col)\n",
    "    print(f\"{i} - {level_2_list[i]}\")\n",
    "    for j in curr_col:\n",
    "        print(j, end=',')\n",
    "    print('')"
   ]
  },
  {
   "cell_type": "code",
   "execution_count": null,
   "id": "d656603c-7d81-4d41-95ef-81dd20826e3d",
   "metadata": {},
   "outputs": [],
   "source": [
    "# Assign cell type to sdata\n",
    "sdata.obs['level_2'] = sdata.obs['leiden'].values\n",
    "sdata.obs = sdata.obs.replace({'level_2': transfer_dict})\n",
    "\n",
    "# Remove NA \n",
    "# adata = adata[adata.obs['level_1'] != 'NA', :]\n",
    "\n",
    "# Sort category\n",
    "# level_2_order = ['Excitatory neuron', 'Inhibitory neuron']\n",
    "\n",
    "# # # Sort category\n",
    "level_2_order = natsorted(level_2_list)\n",
    "\n",
    "sdata.obs['level_2'] = sdata.obs['level_2'].astype('category')\n",
    "sdata.obs['level_2'].cat.reorder_categories(level_2_order, inplace=True)"
   ]
  },
  {
   "cell_type": "code",
   "execution_count": null,
   "id": "7a875639-dc7d-46ba-8370-a7282670816a",
   "metadata": {},
   "outputs": [],
   "source": [
    "# Check color legend\n",
    "level_2_pl = sns.color_palette(\"hls\", len(level_2_order))\n",
    "sns.palplot(level_2_pl, size=3)\n",
    "plt.xticks(range(len(level_2_order)), level_2_order, size=10, rotation=45)\n",
    "plt.tight_layout()\n",
    "# plt.savefig(f'./figures/color_legend_top.png')\n",
    "plt.show()"
   ]
  },
  {
   "cell_type": "code",
   "execution_count": null,
   "id": "8c297d65-41b0-4b9c-8e20-7f8894fc4232",
   "metadata": {},
   "outputs": [],
   "source": [
    "# Save plots\n",
    "# Plot UMAP with cluster labels w/ new color\n",
    "sc.pl.umap(sdata, color='level_2', legend_loc='right margin',\n",
    "           legend_fontsize=12, legend_fontoutline=2, frameon=False, \n",
    "           title=f'Level 2 {sub_id}', palette=level_2_pl, save=False)\n",
    "\n",
    "fig, ax = plt.subplots(figsize=(10,10))\n",
    "sc.pl.umap(sdata, color='level_2', legend_loc='on data',\n",
    "           legend_fontsize=8, legend_fontoutline=1, frameon=False, ax=ax,\n",
    "           title=f'Level 2 {sub_id}', palette=level_2_pl, save=False)"
   ]
  },
  {
   "cell_type": "code",
   "execution_count": null,
   "id": "40b48869-3e8e-4071-9acd-92f76dc60cc9",
   "metadata": {},
   "outputs": [],
   "source": [
    "fig, ax = plt.subplots(figsize=(10, 10))\n",
    "sns.scatterplot(x='column', y='row', hue='level_2', data=sdata.obs, palette=level_2_pl, s=2, legend=False)\n",
    "ax.axis('off')\n",
    "plt.show()"
   ]
  },
  {
   "cell_type": "code",
   "execution_count": null,
   "id": "093812bf-ee43-4392-98c9-3c1e846cc8b7",
   "metadata": {},
   "outputs": [],
   "source": [
    "sc.pl.dotplot(sdata, ['Slc17a7', 'Gad1', 'Gad2'], 'level_2', dendrogram=False)"
   ]
  },
  {
   "cell_type": "markdown",
   "id": "0fd026b5-483c-4463-a635-31fbc6214892",
   "metadata": {
    "tags": []
   },
   "source": [
    "### add to adata"
   ]
  },
  {
   "cell_type": "code",
   "execution_count": null,
   "id": "2724aa44-1313-4d89-ba52-21644edd012f",
   "metadata": {},
   "outputs": [],
   "source": [
    "# Map to original obj\n",
    "if 'level_2' not in adata.obs.columns:\n",
    "    adata.obs['level_2'] = adata.obs['level_1'].astype(object)\n",
    "    \n",
    "adata.obs['level_2'] = adata.obs['level_2'].astype(object)\n",
    "adata.obs.loc[sdata.obs.index, 'level_2'] = sdata.obs['level_2'].values\n",
    "adata.obs['level_2'].unique()"
   ]
  },
  {
   "cell_type": "code",
   "execution_count": null,
   "id": "cfaf987a-f8dd-4a4c-b1cf-060e579387b8",
   "metadata": {},
   "outputs": [],
   "source": [
    "# backup \n",
    "from datetime import datetime\n",
    "date = datetime.today().strftime('%Y-%m-%d')\n",
    "adata.write_h5ad(f\"{out_path}/{date}-Hu-TissueRIBOmap-level2-bk.h5ad\")"
   ]
  },
  {
   "cell_type": "markdown",
   "id": "aec5232c-611e-434e-a931-592ddb70d866",
   "metadata": {},
   "source": [
    "## Level_3 clustering"
   ]
  },
  {
   "cell_type": "code",
   "execution_count": null,
   "id": "8e3224e1-3717-492b-8342-b52db7789358",
   "metadata": {},
   "outputs": [],
   "source": [
    "# Load backup dataset \n",
    "adata = sc.read_h5ad(os.path.join(out_path, '2022-03-15-Hu-TissueRIBOmap-level2-bk.h5ad'))\n",
    "adata"
   ]
  },
  {
   "cell_type": "code",
   "execution_count": null,
   "id": "cf2c2764-7be7-4a0e-ac9c-a0af5bf4b5f8",
   "metadata": {},
   "outputs": [],
   "source": [
    "# Subset\n",
    "sub_id = 'Inhibitory neuron'\n",
    "curr_cells = adata.obs['level_2'] == sub_id\n",
    "sdata = adata[curr_cells, :]\n",
    "sdata"
   ]
  },
  {
   "cell_type": "code",
   "execution_count": null,
   "id": "7fcf9c4d-96a5-4c0b-892c-7b7beaff7493",
   "metadata": {},
   "outputs": [],
   "source": [
    "# Embedding parameters\n",
    "emb_dict = {\n",
    "    'Excitatory neuron': {'n_neighbors': 50, 'n_pcs': 15, 'min_dist': .1, 'cluster_resolution': 2},\n",
    "    'Inhibitory neuron': {'n_neighbors': 50, 'n_pcs': 10, 'min_dist': .1, 'cluster_resolution': 1.5},\n",
    "    # 'Oligodendrocyte': {'n_neighbors': 20, 'n_pcs': 5, 'min_dist': .1, 'cluster_resolution': 1},\n",
    "    # 'Astrocyte': {'n_neighbors': 20, 'n_pcs': 5, 'min_dist': .1, 'cluster_resolution': 1},\n",
    "}\n",
    "\n",
    "save_embedding = False"
   ]
  },
  {
   "cell_type": "code",
   "execution_count": null,
   "id": "f359237b-eab1-4f6c-a099-11ad8fb23622",
   "metadata": {},
   "outputs": [],
   "source": [
    "sub_level_fig_path = os.path.join(fig_path, sub_id)\n",
    "if not os.path.exists(sub_level_fig_path):\n",
    "    os.mkdir(sub_level_fig_path)"
   ]
  },
  {
   "cell_type": "markdown",
   "id": "7c5282ee-2b90-4ac5-951f-062349d6f8c6",
   "metadata": {},
   "source": [
    "### clustering"
   ]
  },
  {
   "cell_type": "code",
   "execution_count": null,
   "id": "5434bfab-17b7-4d70-b373-35f7a40d0ddc",
   "metadata": {},
   "outputs": [],
   "source": [
    "# Run PCA\n",
    "sc.tl.pca(sdata, svd_solver='arpack', use_highly_variable=True)\n",
    "\n",
    "# Plot explained variance \n",
    "sc.pl.pca_variance_ratio(sdata, log=False)\n",
    "\n",
    "# Plot PCA\n",
    "sc.pl.pca(sdata, color='protocol')"
   ]
  },
  {
   "cell_type": "code",
   "execution_count": null,
   "id": "c28d5743-21c8-4746-8124-e6371505ae89",
   "metadata": {},
   "outputs": [],
   "source": [
    "%%time\n",
    "# Computing the neighborhood graph\n",
    "n_neighbors = emb_dict[sub_id]['n_neighbors']\n",
    "n_pcs = emb_dict[sub_id]['n_pcs']\n",
    "min_dist = emb_dict[sub_id]['min_dist']\n",
    "\n",
    "sc.pp.neighbors(sdata, n_neighbors=n_neighbors, n_pcs=n_pcs, random_state=0)\n",
    "\n",
    "# Run UMAP\n",
    "sc.tl.umap(sdata, min_dist=min_dist, random_state=0)\n",
    "sc.tl.diffmap(sdata, n_comps=n_pcs, random_state=0)"
   ]
  },
  {
   "cell_type": "code",
   "execution_count": null,
   "id": "5787e065-b734-477a-b7e5-72e815338f0e",
   "metadata": {},
   "outputs": [],
   "source": [
    "%%time\n",
    "# Run leiden cluster\n",
    "cluster_resolution = emb_dict[sub_id]['cluster_resolution']\n",
    "sc.tl.leiden(sdata, resolution = cluster_resolution)\n",
    "\n",
    "# Plot UMAP with cluster labels \n",
    "sc.pl.umap(sdata, color='leiden')\n",
    "sc.pl.diffmap(sdata, color='leiden')\n",
    "n_clusters = sdata.obs['leiden'].unique().shape[0]\n",
    "\n",
    "if save_embedding:\n",
    "    # Save log\n",
    "    with open(f'{fig_path}/log_{sub_id}.txt', 'w') as f:\n",
    "        f.write(f\"\"\"Number of neighbor: {n_neighbors}\n",
    "    Number of PC: {n_pcs}\n",
    "    Resolution: {cluster_resolution}\n",
    "    Min-distance: {min_dist}\n",
    "    Number of clusters: {n_clusters}\"\"\")\n",
    "\n",
    "    # save embeddings\n",
    "    np.savetxt(f'{fig_path}/embedding_{sub_id}_umap.csv', sdata.obsm['X_umap'], delimiter=\",\")\n",
    "    np.savetxt(f'{fig_path}/embedding_{sub_id}_diffmap.csv', sdata.obsm['X_diffmap'], delimiter=\",\")"
   ]
  },
  {
   "cell_type": "code",
   "execution_count": null,
   "id": "ce90903c-65c9-443e-8222-296d66dae8f9",
   "metadata": {},
   "outputs": [],
   "source": [
    "# Get colormap\n",
    "cluster_pl = sns.color_palette(\"hls\", n_clusters)\n",
    "cluster_cmap = ListedColormap(cluster_pl.as_hex())\n",
    "sns.palplot(cluster_pl)"
   ]
  },
  {
   "cell_type": "code",
   "execution_count": null,
   "id": "f91cd9ce-d64d-470c-b95c-e241ee2e977e",
   "metadata": {},
   "outputs": [],
   "source": [
    "# Add log layer\n",
    "sdata.layers['log_raw'] = np.log1p(sdata.layers['raw'])\n",
    "sc.pp.normalize_total(sdata, layer='log_raw')\n",
    "\n",
    "# Find gene markers for each cluster\n",
    "sc.tl.rank_genes_groups(sdata, 'leiden', method='wilcoxon', layer='log_raw', pts=True, use_raw=False, n_genes=adata.shape[1])\n",
    "\n",
    "# Filter markers\n",
    "sc.tl.filter_rank_genes_groups(sdata, min_fold_change=.1, min_in_group_fraction=0.2, max_out_group_fraction=0.8)"
   ]
  },
  {
   "cell_type": "code",
   "execution_count": null,
   "id": "28de3984-9775-42af-9f8a-8b1305dceaa8",
   "metadata": {},
   "outputs": [],
   "source": [
    "current_cell_type = '0'\n",
    "\n",
    "current_df = sc.get.rank_genes_groups_df(sdata, group=current_cell_type, key='rank_genes_groups')\n",
    "current_df"
   ]
  },
  {
   "cell_type": "code",
   "execution_count": null,
   "id": "8f550c10-786d-4fa8-9256-1d17a31528fe",
   "metadata": {},
   "outputs": [],
   "source": [
    "# Dot plot logfoldchanges\n",
    "sc.pl.rank_genes_groups_dotplot(sdata, key='rank_genes_groups', n_genes=5, values_to_plot='logfoldchanges', min_logfoldchange=1, vmax=5, vmin=-5, cmap='bwr', dendrogram=False)"
   ]
  },
  {
   "cell_type": "code",
   "execution_count": null,
   "id": "3f23d3ab-5a7a-4910-b504-53962405bab5",
   "metadata": {},
   "outputs": [],
   "source": [
    "# Dot plot mean expression (##)\n",
    "sc.pl.rank_genes_groups_dotplot(sdata, key='rank_genes_groups_filtered', n_genes=5, dendrogram=False)"
   ]
  },
  {
   "cell_type": "code",
   "execution_count": null,
   "id": "b52e7c0a-adc5-42a2-9776-f8a0ad90e4ea",
   "metadata": {},
   "outputs": [],
   "source": [
    "# Print markers \n",
    "markers = []\n",
    "temp = pd.DataFrame(sdata.uns['rank_genes_groups']['names']).head(15)\n",
    "for i in range(temp.shape[1]):\n",
    "    curr_col = temp.iloc[:, i].to_list()\n",
    "    markers = markers + curr_col\n",
    "    # print(i, curr_col)\n",
    "    print(i)\n",
    "    for j in curr_col:\n",
    "        print(j, end=' ')\n",
    "    print('')"
   ]
  },
  {
   "cell_type": "code",
   "execution_count": null,
   "id": "12887ee5-24a4-42e2-b47e-eb7991d2efd6",
   "metadata": {
    "tags": []
   },
   "outputs": [],
   "source": [
    "# Plot UMAP with cluster labels w/ new color\n",
    "fig, ax = plt.subplots(figsize=(10,7))\n",
    "sc.pl.umap(sdata, color='leiden', legend_loc='on data',\n",
    "           legend_fontsize=12, legend_fontoutline=2, frameon=False, \n",
    "           title='Top level clustering (leiden)', palette=cluster_pl, save=False, ax=ax)"
   ]
  },
  {
   "cell_type": "code",
   "execution_count": null,
   "id": "175cf5e3-4950-43d8-9aac-d5ce37b0a3a9",
   "metadata": {
    "tags": []
   },
   "outputs": [],
   "source": [
    "gene_list = ['Slc17a7', 'Gad1', 'Gad2', 'Sst', 'Pvalb', 'Npy', 'Vip', 'Pcp4', 'Cux2', 'Kif5a', 'Slc32a1', 'Nrgn', 'Sncg', 'Rorb', 'Tmsb4x']\n",
    "# gene_list = ['Aqp4', 'Gfap', 'Plp1', 'Mbp', 'Mobp', 'Slc1a3', 'Pdgfra', 'Bsg', 'Vtn', 'Vim']\n",
    "\n",
    "fig, axs = plt.subplots(nrows=3, ncols=5, figsize=(25, 12))\n",
    "axs = axs.flatten()\n",
    "for i, gene in enumerate(gene_list):\n",
    "    ax = sc.pl.umap(sdata, color=gene, title=gene, ax=axs[i], show=False)\n",
    "    \n",
    "plt.show()"
   ]
  },
  {
   "cell_type": "code",
   "execution_count": null,
   "id": "2ce41079-e449-4f11-9aa1-f580289dcf2b",
   "metadata": {
    "tags": []
   },
   "outputs": [],
   "source": [
    "fig, ax = plt.subplots(figsize=(10, 10))\n",
    "sns.scatterplot(x='column', y='row', hue='leiden', data=sdata.obs, palette=cluster_pl, s=2, legend=False)\n",
    "ax.axis('off')\n",
    "plt.show()"
   ]
  },
  {
   "cell_type": "code",
   "execution_count": null,
   "id": "138b2a0e-3dbc-4127-b26c-67f46f6d5320",
   "metadata": {
    "scrolled": true,
    "tags": []
   },
   "outputs": [],
   "source": [
    "from natsort import natsorted\n",
    "for current_group in natsorted(sdata.obs['leiden'].unique()):\n",
    "    \n",
    "    # Plot single cluster\n",
    "    fig, ax = plt.subplots(figsize=(10, 10))\n",
    "    sns.scatterplot(x='column', y='row', data=adata.obs, color='#1111', s=2, legend=False, ax=ax)\n",
    "    sns.scatterplot(x='column', y='row', hue='leiden', data=sdata.obs.loc[sdata.obs['leiden'] == current_group, :], palette=cluster_pl, s=4, legend=False, ax=ax)\n",
    "    ax.title.set_text(current_group)\n",
    "    ax.axis('off')\n",
    "    plt.show()"
   ]
  },
  {
   "cell_type": "code",
   "execution_count": null,
   "id": "48297139-8dcf-4bbd-99ae-0d53a3c9db30",
   "metadata": {
    "tags": []
   },
   "outputs": [],
   "source": [
    "# Plot single cluster\n",
    "fig, ax = plt.subplots(figsize=(10, 10))\n",
    "sns.scatterplot(x='column', y='row', hue='leiden', data=sdata.obs.loc[sdata.obs['leiden'] == '14', :], palette='tab20', s=2, legend=False, ax=ax)\n",
    "ax.axis('off')\n",
    "plt.show()"
   ]
  },
  {
   "cell_type": "markdown",
   "id": "0dceaaca-3c83-4982-b609-557b0cc62227",
   "metadata": {},
   "source": [
    "### assign label"
   ]
  },
  {
   "cell_type": "code",
   "execution_count": null,
   "id": "c17baf02-6c3b-4c55-b430-c21ae08a6bd7",
   "metadata": {},
   "outputs": [],
   "source": [
    "# Plot UMAP with cluster labels w/ new color\n",
    "fig, ax = plt.subplots(figsize=(10,7))\n",
    "sc.pl.umap(sdata, color='leiden', legend_loc='on data',\n",
    "           legend_fontsize=12, legend_fontoutline=2, frameon=False, \n",
    "           title=f'Level 3 {sub_id}', palette=cluster_pl, save=False, ax=ax)"
   ]
  },
  {
   "cell_type": "code",
   "execution_count": null,
   "id": "5d39d6ff-9443-4128-9ce4-4f18661bc997",
   "metadata": {
    "tags": []
   },
   "outputs": [],
   "source": [
    "# Print markers \n",
    "markers = []\n",
    "temp = pd.DataFrame(sdata.uns['rank_genes_groups_filtered']['names']).head(15)\n",
    "for i in range(temp.shape[1]):\n",
    "    curr_col = temp.iloc[:, i].to_list()\n",
    "    markers = markers + curr_col\n",
    "    # print(i, curr_col)\n",
    "    print(i)\n",
    "    for j in curr_col:\n",
    "        print(j, end=' ')\n",
    "    print('')"
   ]
  },
  {
   "cell_type": "code",
   "execution_count": null,
   "id": "750dccea-4cfa-496f-9b67-de0aed4ea2a5",
   "metadata": {},
   "outputs": [],
   "source": [
    "# Change cluster label to cell type label\n",
    "transfer_dict = {}\n",
    "\n",
    "# Excitatory neuron\n",
    "if sub_id == 'Excitatory neuron':\n",
    "    level_3_list = ['Ex L2/3 1', #0\n",
    "                    'Ex Mix 1', #1\n",
    "                    'Ex TH 1', #2\n",
    "                    'Ex DG', #3\n",
    "                    'Ex Mix 2', #4\n",
    "                    'Ex L6a 1', #5\n",
    "                    'Ex TH 2', #6\n",
    "                    'Ex Mix 3', #7\n",
    "                    'Ex PIR', #8\n",
    "                    'Ex L2/3 2', #9 \n",
    "                    'Ex CTXsp', #10\n",
    "                    'Ex L2/3 3', #11\n",
    "                    'Ex L4/5 1', #12\n",
    "                    'Ex L4', #13\n",
    "                    'Ex Mix 4', #14\n",
    "                    'Ex CA1', #15\n",
    "                    'Ex MH', #16\n",
    "                    'Ex L6', #17\n",
    "                    'Ex MEA', #18\n",
    "                    'Ex CA3', #19\n",
    "                    'Ex TH 3', #20\n",
    "                    'Ex Mix 5', #21\n",
    "                   ]\n",
    "\n",
    "# Inhibitory neuron\n",
    "if sub_id == 'Inhibitory neuron':\n",
    "    level_3_list = ['Inh LH/HY 1', #0\n",
    "                    'Inh STR 1', #1\n",
    "                    'Inh HY 1', #2\n",
    "                    'Inh Pvalb 1', #3\n",
    "                    'Inh LH/HY 2', #4\n",
    "                    'Inh HY 2', #5\n",
    "                    'Inh STR 2', #6\n",
    "                    'Inh Mix 1', #7\n",
    "                    'Inh HY 3', #8\n",
    "                    'Inh Sst', #9 \n",
    "                    'Inh Npy', #10\n",
    "                    'Inh STR 3', #11\n",
    "                    'Inh Pvalb 2', #12\n",
    "                    'Inh STR 4', #13\n",
    "                    'Inh Mix 2', #14\n",
    "                    'Inh LH/HY 3', #15\n",
    "                    'Inh STR 5', #16\n",
    "                    'Inh HY 4', #17\n",
    "                    'Inh HY 5', #18\n",
    "\n",
    "                   ]\n",
    "\n",
    "\n",
    "for i in sorted(sdata.obs['leiden'].unique()):\n",
    "    transfer_dict[i] = level_3_list[int(i)]"
   ]
  },
  {
   "cell_type": "code",
   "execution_count": null,
   "id": "55e17bd2-4126-4bec-b14f-a9e833da7d22",
   "metadata": {},
   "outputs": [],
   "source": [
    "# Print markers \n",
    "markers = []\n",
    "temp = pd.DataFrame(sdata.uns['rank_genes_groups']['names']).head(10)\n",
    "for i in range(temp.shape[1]):\n",
    "    curr_col = temp.iloc[:, i].to_list()\n",
    "    markers = markers + curr_col\n",
    "    # print(i, curr_col)\n",
    "    print(f\"{i} - {level_3_list[i]}\")\n",
    "    for j in curr_col:\n",
    "        print(j, end=',')\n",
    "    print('')"
   ]
  },
  {
   "cell_type": "code",
   "execution_count": null,
   "id": "a59a8cc4-0856-47dc-aff4-c3f072bf3f4d",
   "metadata": {},
   "outputs": [],
   "source": [
    "# Assign cell type to sdata\n",
    "sdata.obs['level_3'] = sdata.obs['leiden'].values\n",
    "sdata.obs = sdata.obs.replace({'level_3': transfer_dict})\n",
    "\n",
    "# Remove NA \n",
    "# adata = adata[adata.obs['level_1'] != 'NA', :]\n",
    "\n",
    "# Sort category\n",
    "level_3_order = natsorted(level_3_list)\n",
    "\n",
    "# # Sort category\n",
    "# level_2_order = ['Astrocyte', 'Oligodendrocyte', 'Oligodendrocytes precursor cell', 'Chorid plexus epithelial cell', 'Ependymal cell',\n",
    "#                 'Pericytes/Vascular endothelial cell', 'Vascular leptomeningeal cell', 'Microglia', 'Unknown']\n",
    "\n",
    "sdata.obs['level_3'] = sdata.obs['level_3'].astype('category')\n",
    "sdata.obs['level_3'].cat.reorder_categories(level_3_order, inplace=True)"
   ]
  },
  {
   "cell_type": "code",
   "execution_count": null,
   "id": "461620b0-5bc3-460d-a016-66f19827429a",
   "metadata": {},
   "outputs": [],
   "source": [
    "# Check color legend\n",
    "level_3_pl = sns.color_palette(\"hls\", len(level_3_order))\n",
    "sns.palplot(level_3_pl, size=3)\n",
    "plt.xticks(range(len(level_3_order)), level_3_order, size=10, rotation=45)\n",
    "plt.tight_layout()\n",
    "# plt.savefig(f'./figures/color_legend_top.png')\n",
    "plt.show()"
   ]
  },
  {
   "cell_type": "code",
   "execution_count": null,
   "id": "69e3c68a-2f0c-44b5-922b-3798bb211f83",
   "metadata": {},
   "outputs": [],
   "source": [
    "# Save plots\n",
    "# Plot UMAP with cluster labels w/ new color\n",
    "sc.pl.umap(sdata, color='level_3', legend_loc='right margin',\n",
    "           legend_fontsize=12, legend_fontoutline=2, frameon=False, \n",
    "           title=f'Level 3 {sub_id}', palette=level_3_pl, save=False)\n",
    "\n",
    "# sc.tl.rank_genes_groups(adata, 'level_1', method='wilcoxon')\n",
    "\n",
    "# # Plot z-score heatmap\n",
    "# sc.pl.rank_genes_groups_heatmap(adata, n_genes=5, groupby='top_level', min_logfoldchange=1, use_raw=False, swap_axes=True, \n",
    "#                                 vmin=-5, vmax=5, cmap='bwr', show_gene_labels=True,\n",
    "#                                 dendrogram=False, figsize=(30, 15), save=False)"
   ]
  },
  {
   "cell_type": "code",
   "execution_count": null,
   "id": "de2c7d90-adca-4a96-8928-ea4a5c0c8b9e",
   "metadata": {},
   "outputs": [],
   "source": [
    "fig, ax = plt.subplots(figsize=(10, 10))\n",
    "sns.scatterplot(x='column', y='row', hue='level_3', data=sdata.obs, palette=level_3_pl, s=2, legend=False)\n",
    "ax.axis('off')\n",
    "plt.show()"
   ]
  },
  {
   "cell_type": "markdown",
   "id": "dce01c27-5337-442b-840b-d2dea6c3fdd6",
   "metadata": {
    "tags": []
   },
   "source": [
    "### add to adata"
   ]
  },
  {
   "cell_type": "code",
   "execution_count": null,
   "id": "23cc8a48-940d-443c-9990-0bef34d5c842",
   "metadata": {},
   "outputs": [],
   "source": [
    "# Map to original obj\n",
    "if 'level_3' not in adata.obs.columns:\n",
    "    adata.obs['level_3'] = adata.obs['level_2'].astype(object)\n",
    "    \n",
    "adata.obs['level_3'] = adata.obs['level_3'].astype(object)\n",
    "adata.obs.loc[sdata.obs.index, 'level_3'] = sdata.obs['level_3'].values\n",
    "adata.obs['level_3'].unique()"
   ]
  },
  {
   "cell_type": "code",
   "execution_count": null,
   "id": "198403a0-6823-4ca0-be23-2d8ac0a6f4e2",
   "metadata": {},
   "outputs": [],
   "source": [
    "# backup \n",
    "from datetime import datetime\n",
    "date = datetime.today().strftime('%Y-%m-%d')\n",
    "adata.write_h5ad(f\"{out_path}/{date}-Hu-TissueRIBOmap-level3-bk.h5ad\")"
   ]
  },
  {
   "cell_type": "markdown",
   "id": "75206d00-910c-4d8f-95d5-c0c89ff3d190",
   "metadata": {},
   "source": [
    "## CA"
   ]
  },
  {
   "cell_type": "code",
   "execution_count": null,
   "id": "4e26fdf9-c117-432a-9f23-6d8203be7453",
   "metadata": {},
   "outputs": [],
   "source": [
    "# Subset\n",
    "sub_id = 'Ex CA3'\n",
    "curr_cells = adata.obs['level_3'] == sub_id\n",
    "sdata = adata[curr_cells, :]\n",
    "sdata"
   ]
  },
  {
   "cell_type": "code",
   "execution_count": null,
   "id": "49ddd840-cc8c-49d8-b32b-daf891692fdc",
   "metadata": {},
   "outputs": [],
   "source": [
    "# Embedding parameters\n",
    "emb_dict = {\n",
    "    'Ex CA3': {'n_neighbors': 20, 'n_pcs': 30, 'min_dist': .1, 'cluster_resolution': .5},\n",
    "}\n",
    "\n",
    "save_embedding = False"
   ]
  },
  {
   "cell_type": "code",
   "execution_count": null,
   "id": "f9f6fbd4-2dff-46c6-a7bd-727232c71c56",
   "metadata": {},
   "outputs": [],
   "source": [
    "sub_level_fig_path = os.path.join(fig_path, sub_id)\n",
    "if not os.path.exists(sub_level_fig_path):\n",
    "    os.mkdir(sub_level_fig_path)"
   ]
  },
  {
   "cell_type": "markdown",
   "id": "d3adcab6-374f-47fa-9e78-7e180dcdc0b8",
   "metadata": {},
   "source": [
    "### clustering"
   ]
  },
  {
   "cell_type": "code",
   "execution_count": null,
   "id": "3f140e1c-0026-4f23-8648-975df4996a05",
   "metadata": {},
   "outputs": [],
   "source": [
    "# Run PCA\n",
    "sc.tl.pca(sdata, svd_solver='arpack', use_highly_variable=True)\n",
    "\n",
    "# Plot explained variance \n",
    "sc.pl.pca_variance_ratio(sdata, log=False)\n",
    "\n",
    "# Plot PCA\n",
    "sc.pl.pca(sdata, color='protocol')"
   ]
  },
  {
   "cell_type": "code",
   "execution_count": null,
   "id": "06b36fe4-959c-44e5-b0b4-87980776a4f1",
   "metadata": {},
   "outputs": [],
   "source": [
    "%%time\n",
    "# Computing the neighborhood graph\n",
    "n_neighbors = emb_dict[sub_id]['n_neighbors']\n",
    "n_pcs = emb_dict[sub_id]['n_pcs']\n",
    "min_dist = emb_dict[sub_id]['min_dist']\n",
    "\n",
    "sc.pp.neighbors(sdata, n_neighbors=n_neighbors, n_pcs=n_pcs, random_state=0)\n",
    "\n",
    "# Run UMAP\n",
    "sc.tl.umap(sdata, min_dist=min_dist, random_state=0)\n",
    "sc.tl.diffmap(sdata, n_comps=n_pcs, random_state=0)"
   ]
  },
  {
   "cell_type": "code",
   "execution_count": null,
   "id": "4c211909-b23f-42d6-815b-6d263125bc0d",
   "metadata": {},
   "outputs": [],
   "source": [
    "%%time\n",
    "# Run leiden cluster\n",
    "cluster_resolution = emb_dict[sub_id]['cluster_resolution']\n",
    "sc.tl.leiden(sdata, resolution = cluster_resolution)\n",
    "\n",
    "# Plot UMAP with cluster labels \n",
    "sc.pl.umap(sdata, color='leiden')\n",
    "sc.pl.diffmap(sdata, color='leiden')\n",
    "n_clusters = sdata.obs['leiden'].unique().shape[0]\n",
    "\n",
    "if save_embedding:\n",
    "    # Save log\n",
    "    with open(f'{fig_path}/log_{sub_id}.txt', 'w') as f:\n",
    "        f.write(f\"\"\"Number of neighbor: {n_neighbors}\n",
    "    Number of PC: {n_pcs}\n",
    "    Resolution: {cluster_resolution}\n",
    "    Min-distance: {min_dist}\n",
    "    Number of clusters: {n_clusters}\"\"\")\n",
    "\n",
    "    # save embeddings\n",
    "    np.savetxt(f'{fig_path}/embedding_{sub_id}_umap.csv', sdata.obsm['X_umap'], delimiter=\",\")\n",
    "    np.savetxt(f'{fig_path}/embedding_{sub_id}_diffmap.csv', sdata.obsm['X_diffmap'], delimiter=\",\")"
   ]
  },
  {
   "cell_type": "code",
   "execution_count": null,
   "id": "128afa36-c322-48b9-8d08-85cbfa79814c",
   "metadata": {},
   "outputs": [],
   "source": [
    "# Get colormap\n",
    "cluster_pl = sns.color_palette(\"hls\", n_clusters)\n",
    "cluster_cmap = ListedColormap(cluster_pl.as_hex())\n",
    "sns.palplot(cluster_pl)"
   ]
  },
  {
   "cell_type": "code",
   "execution_count": null,
   "id": "262ca99d-62d2-49aa-809e-e0592e616e76",
   "metadata": {},
   "outputs": [],
   "source": [
    "fig, ax = plt.subplots(figsize=(10, 10))\n",
    "sns.scatterplot(x='column', y='row', hue='leiden', data=sdata.obs, palette=cluster_pl, s=2, legend=False)\n",
    "ax.axis('off')\n",
    "plt.show()"
   ]
  },
  {
   "cell_type": "markdown",
   "id": "7d860fe6-6d9f-4098-a772-f2b6e13645fa",
   "metadata": {},
   "source": [
    "### assign label"
   ]
  },
  {
   "cell_type": "code",
   "execution_count": null,
   "id": "65c9bc67-8d59-41b6-93a5-7f06145229fc",
   "metadata": {},
   "outputs": [],
   "source": [
    "# Change cluster label to cell type label\n",
    "transfer_dict = {}\n",
    "\n",
    "level_3_list = ['Ex CA3', #0\n",
    "                'Ex CA3', #1\n",
    "                'Ex CA2', #2\n",
    "                'Ex CA3', #3\n",
    "                'Ex CA3', #4\n",
    "               ]\n",
    "\n",
    "\n",
    "for i in sorted(sdata.obs['leiden'].unique()):\n",
    "    transfer_dict[i] = level_3_list[int(i)]"
   ]
  },
  {
   "cell_type": "code",
   "execution_count": null,
   "id": "7b36f108-415e-4afa-92dc-e02f3fc69b2c",
   "metadata": {},
   "outputs": [],
   "source": [
    "# Assign cell type to sdata\n",
    "sdata.obs['level_3'] = sdata.obs['leiden'].values\n",
    "sdata.obs = sdata.obs.replace({'level_3': transfer_dict})\n",
    "\n",
    "# Remove NA \n",
    "# adata = adata[adata.obs['level_1'] != 'NA', :]\n",
    "\n",
    "# Sort category\n",
    "level_3_order = ['Ex CA2', 'Ex CA3']\n",
    "\n",
    "# # Sort category\n",
    "# level_2_order = ['Astrocyte', 'Oligodendrocyte', 'Oligodendrocytes precursor cell', 'Chorid plexus epithelial cell', 'Ependymal cell',\n",
    "#                 'Pericytes/Vascular endothelial cell', 'Vascular leptomeningeal cell', 'Microglia', 'Unknown']\n",
    "\n",
    "sdata.obs['level_3'] = sdata.obs['level_3'].astype('category')\n",
    "sdata.obs['level_3'].cat.reorder_categories(level_3_order, inplace=True)"
   ]
  },
  {
   "cell_type": "markdown",
   "id": "816f2d65-d27d-4889-9171-a1562b00dbb1",
   "metadata": {
    "tags": []
   },
   "source": [
    "### add to adata"
   ]
  },
  {
   "cell_type": "code",
   "execution_count": null,
   "id": "a9feaea1-b9b0-4e01-99f2-225e05273548",
   "metadata": {},
   "outputs": [],
   "source": [
    "# Map to original obj\n",
    "if 'level_3' not in adata.obs.columns:\n",
    "    adata.obs['level_3'] = adata.obs['level_2'].astype(object)\n",
    "    \n",
    "adata.obs['level_3'] = adata.obs['level_3'].astype(object)\n",
    "adata.obs.loc[sdata.obs.index, 'level_3'] = sdata.obs['level_3'].values\n",
    "adata.obs['level_3'].unique()"
   ]
  },
  {
   "cell_type": "code",
   "execution_count": null,
   "id": "28717f9d-5508-402a-a35d-a0409610a99d",
   "metadata": {},
   "outputs": [],
   "source": [
    "# backup \n",
    "from datetime import datetime\n",
    "date = datetime.today().strftime('%Y-%m-%d')\n",
    "adata.write_h5ad(f\"{out_path}/{date}-Hu-TissueRIBOmap-level3.h5ad\")"
   ]
  },
  {
   "cell_type": "markdown",
   "id": "dce168ce-2257-455b-945c-8cc47ffa7eaf",
   "metadata": {},
   "source": [
    "## Organize annotation"
   ]
  },
  {
   "cell_type": "code",
   "execution_count": null,
   "id": "33811ba0-8dc9-4726-99a0-dbc35c46548c",
   "metadata": {},
   "outputs": [],
   "source": [
    "adata.obs['level_1'].unique()"
   ]
  },
  {
   "cell_type": "code",
   "execution_count": null,
   "id": "afd813de-4aed-4788-8a75-182d9f94e0fc",
   "metadata": {},
   "outputs": [],
   "source": [
    "adata.obs['level_2'].unique()"
   ]
  },
  {
   "cell_type": "code",
   "execution_count": null,
   "id": "b6e260a2-0cdb-4334-9fa4-3ffa8b9aa1d1",
   "metadata": {},
   "outputs": [],
   "source": [
    "adata.obs['level_3'].unique()"
   ]
  },
  {
   "cell_type": "code",
   "execution_count": null,
   "id": "1dbdcc7c-4040-4b8c-9e33-09d8cd50cb07",
   "metadata": {},
   "outputs": [],
   "source": [
    "for i in sorted(adata.obs['level_2'].unique()):\n",
    "    print(i)"
   ]
  },
  {
   "cell_type": "code",
   "execution_count": null,
   "id": "e41b5ac1-f06b-4534-b238-261498a7c3f7",
   "metadata": {},
   "outputs": [],
   "source": [
    "# merge level 2 for glia\n",
    "\n",
    "adata.obs['level_2'] = adata.obs['level_2'].astype(object)\n",
    "\n",
    "oligo_list = ['Oligodendrocyte 1', 'Oligodendrocyte 2', 'Oligodendrocyte 3', 'Oligodendrocyte 4']\n",
    "adata.obs.loc[adata.obs['level_2'].isin(oligo_list), 'level_2'] = 'Oligodendrocyte'\n",
    "\n",
    "astro_list = ['Astrocyte 1', 'Astrocyte 2', 'Astrocyte 3']\n",
    "adata.obs.loc[adata.obs['level_2'].isin(astro_list), 'level_2'] = 'Astrocyte'\n",
    "\n",
    "vas_list = ['Chorid plexus epithelial cells', 'Ependymal cells', 'Pericytes/Vascular endothelial cell 1', 'Pericytes/Vascular endothelial cell 2', \n",
    "            'Vascular leptomeningeal cell 1', 'Vascular leptomeningeal cell 2', 'Vascular leptomeningeal cell 3', 'Vascular leptomeningeal cell 4']\n",
    "adata.obs.loc[adata.obs['level_2'].isin(vas_list), 'level_2'] = 'Vascular cell'\n",
    "\n",
    "adata.obs['level_2'] = adata.obs['level_2'].astype('category')\n",
    "level_2_order = ['Excitatory neuron', 'Inhibitory neuron', 'Astrocyte', 'Oligodendrocyte', 'Oligodendrocytes precursor cell', 'Microglia', 'Vascular cell', 'Unknown']\n",
    "adata.obs['level_2'] = adata.obs['level_2'].cat.reorder_categories(level_2_order)"
   ]
  },
  {
   "cell_type": "code",
   "execution_count": null,
   "id": "882ab15f-670a-47ca-b180-ce9198c5a9a7",
   "metadata": {},
   "outputs": [],
   "source": [
    "# backup \n",
    "from datetime import datetime\n",
    "date = datetime.today().strftime('%Y-%m-%d')\n",
    "adata.write_h5ad(f\"{out_path}/{date}-Hu-TissueRIBOmap-level3.h5ad\")"
   ]
  },
  {
   "cell_type": "code",
   "execution_count": null,
   "id": "607f4ea5-b094-4c55-a8e8-55b8b34fa812",
   "metadata": {},
   "outputs": [],
   "source": [
    "# Get colormap\n",
    "cluster_pl = sns.color_palette(\"hls\", adata.obs['level_3'].nunique())\n",
    "cluster_cmap = ListedColormap(cluster_pl.as_hex())\n",
    "sns.palplot(cluster_pl)"
   ]
  },
  {
   "cell_type": "code",
   "execution_count": null,
   "id": "0a073a93-dbe6-4a54-b208-a11a3a3ad9c4",
   "metadata": {},
   "outputs": [],
   "source": [
    "# Plot UMAP with cluster labels w/ new color\n",
    "fig, ax = plt.subplots(figsize=(10,7))\n",
    "sc.pl.umap(adata, color='level_3', legend_loc='right margin',\n",
    "           legend_fontsize=12, legend_fontoutline=2, frameon=False, \n",
    "           title=f'Level 3', palette=cluster_pl, save=False, ax=ax)"
   ]
  },
  {
   "cell_type": "code",
   "execution_count": null,
   "id": "c2976cba-4956-421c-ae10-9cf87edd77c6",
   "metadata": {
    "tags": []
   },
   "outputs": [],
   "source": [
    "fig, ax = plt.subplots(figsize=(10, 10))\n",
    "sns.scatterplot(x='column', y='row', hue='level_3', data=adata.obs, palette=cluster_pl, s=2, legend=False)\n",
    "ax.axis('off')\n",
    "plt.show()"
   ]
  }
 ],
 "metadata": {
  "kernelspec": {
   "display_name": "Python 3 (ipykernel)",
   "language": "python",
   "name": "python3"
  },
  "language_info": {
   "codemirror_mode": {
    "name": "ipython",
    "version": 3
   },
   "file_extension": ".py",
   "mimetype": "text/x-python",
   "name": "python",
   "nbconvert_exporter": "python",
   "pygments_lexer": "ipython3",
   "version": "3.8.12"
  }
 },
 "nbformat": 4,
 "nbformat_minor": 5
}
