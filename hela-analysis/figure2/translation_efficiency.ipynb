{
 "cells": [
  {
   "cell_type": "code",
   "execution_count": 10,
   "metadata": {},
   "outputs": [],
   "source": [
    "import scanpy as sc\n",
    "import numpy as np\n",
    "import seaborn as sns\n",
    "import pandas as pd\n",
    "import matplotlib.pyplot as plt"
   ]
  },
  {
   "cell_type": "code",
   "execution_count": 2,
   "metadata": {},
   "outputs": [],
   "source": [
    "rpath = 'Z:/Connie/RIBOmap/result/FUCCI data'"
   ]
  },
  {
   "cell_type": "code",
   "execution_count": 11,
   "metadata": {},
   "outputs": [],
   "source": [
    "adata_star = sc.read_h5ad(rpath+'/adata/FUCCI_starmap_cc_02-22-22.h5ad')\n",
    "adata_ribo = sc.read_h5ad(rpath+'/adata/FUCCI_ribomap_cc_02-22-22.h5ad')\n",
    "adata = sc.read_h5ad(rpath+'/adata/FUCCI_cc_02-22-22.h5ad')\n",
    "genes = adata_ribo.var.index"
   ]
  },
  {
   "cell_type": "code",
   "execution_count": 8,
   "metadata": {},
   "outputs": [],
   "source": [
    "# coding non-coding\n",
    "coding_info = pd.read_excel('Z:/Connie/RIBOmap/gene_modules/TEMPOmap non-coding RNA.xlsx')\n",
    "coding_genes = coding_info[coding_info['Non-coding RNA']==0]['Gene'].values # 988\n",
    "genes_coding = genes[np.isin(genes, coding_genes)] # 981"
   ]
  },
  {
   "cell_type": "code",
   "execution_count": 12,
   "metadata": {},
   "outputs": [
    {
     "data": {
      "text/plain": [
       "<AxesSubplot:ylabel='Count'>"
      ]
     },
     "execution_count": 12,
     "metadata": {},
     "output_type": "execute_result"
    },
    {
     "data": {
      "image/png": "[encoded data removed]",
      "text/plain": [
       "<Figure size 432x288 with 1 Axes>"
      ]
     },
     "metadata": {
      "needs_background": "light"
     },
     "output_type": "display_data"
    }
   ],
   "source": [
    "# overall TE\n",
    "mean_star = np.mean(adata.X[adata.obs['sample']=='STARmap'][adata_star.obs['pass_all_filters']], axis=0)\n",
    "mean_ribo = np.mean(adata.X[adata.obs['sample']=='RIBOmap'][adata_ribo.obs['pass_all_filters']], axis=0)\n",
    "te_overall = mean_ribo / mean_star\n",
    "te_overall = te_overall[np.isin(genes, coding_genes)]\n",
    "sns.histplot(te_overall)"
   ]
  },
  {
   "cell_type": "code",
   "execution_count": 13,
   "metadata": {},
   "outputs": [],
   "source": [
    "TE_cc = []\n",
    "for cc in ['G1', 'S', 'G2M']:\n",
    "    meancc_star = np.mean(adata.X[adata.obs['sample']=='STARmap'][np.logical_and(adata_star.obs['phase_new']==cc, adata_star.obs['pass_all_filters'])], axis=0)\n",
    "    meancc_ribo = np.mean(adata.X[adata.obs['sample']=='RIBOmap'][np.logical_and(adata_ribo.obs['phase_new']==cc, adata_ribo.obs['pass_all_filters'])], axis=0)\n",
    "    te_cc = meancc_ribo / meancc_star\n",
    "    te_cc = te_cc[np.isin(genes, coding_genes)]\n",
    "    TE_cc.append(te_cc)"
   ]
  },
  {
   "cell_type": "code",
   "execution_count": 14,
   "metadata": {},
   "outputs": [
    {
     "data": {
      "text/html": [
       "<div>\n",
       "<style scoped>\n",
       "    .dataframe tbody tr th:only-of-type {\n",
       "        vertical-align: middle;\n",
       "    }\n",
       "\n",
       "    .dataframe tbody tr th {\n",
       "        vertical-align: top;\n",
       "    }\n",
       "\n",
       "    .dataframe thead th {\n",
       "        text-align: right;\n",
       "    }\n",
       "</style>\n",
       "<table border=\"1\" class=\"dataframe\">\n",
       "  <thead>\n",
       "    <tr style=\"text-align: right;\">\n",
       "      <th></th>\n",
       "      <th>gene</th>\n",
       "      <th>cc</th>\n",
       "      <th>value</th>\n",
       "    </tr>\n",
       "  </thead>\n",
       "  <tbody>\n",
       "    <tr>\n",
       "      <th>0</th>\n",
       "      <td>AARS</td>\n",
       "      <td>G1</td>\n",
       "      <td>0.92927504</td>\n",
       "    </tr>\n",
       "    <tr>\n",
       "      <th>1</th>\n",
       "      <td>ASXL1</td>\n",
       "      <td>G1</td>\n",
       "      <td>0.3973243</td>\n",
       "    </tr>\n",
       "    <tr>\n",
       "      <th>2</th>\n",
       "      <td>COX7B</td>\n",
       "      <td>G1</td>\n",
       "      <td>0.5904125</td>\n",
       "    </tr>\n",
       "    <tr>\n",
       "      <th>3</th>\n",
       "      <td>CTGF</td>\n",
       "      <td>G1</td>\n",
       "      <td>0.570854</td>\n",
       "    </tr>\n",
       "    <tr>\n",
       "      <th>4</th>\n",
       "      <td>DLX4</td>\n",
       "      <td>G1</td>\n",
       "      <td>0.13080521</td>\n",
       "    </tr>\n",
       "    <tr>\n",
       "      <th>...</th>\n",
       "      <td>...</td>\n",
       "      <td>...</td>\n",
       "      <td>...</td>\n",
       "    </tr>\n",
       "    <tr>\n",
       "      <th>2938</th>\n",
       "      <td>ZRANB1</td>\n",
       "      <td>G2M</td>\n",
       "      <td>0.59947395</td>\n",
       "    </tr>\n",
       "    <tr>\n",
       "      <th>2939</th>\n",
       "      <td>ZSCAN12</td>\n",
       "      <td>G2M</td>\n",
       "      <td>0.4679332</td>\n",
       "    </tr>\n",
       "    <tr>\n",
       "      <th>2940</th>\n",
       "      <td>ZSCAN29</td>\n",
       "      <td>G2M</td>\n",
       "      <td>0.46437842</td>\n",
       "    </tr>\n",
       "    <tr>\n",
       "      <th>2941</th>\n",
       "      <td>ZXDC</td>\n",
       "      <td>G2M</td>\n",
       "      <td>0.38617763</td>\n",
       "    </tr>\n",
       "    <tr>\n",
       "      <th>2942</th>\n",
       "      <td>ZYG11A</td>\n",
       "      <td>G2M</td>\n",
       "      <td>0.23852451</td>\n",
       "    </tr>\n",
       "  </tbody>\n",
       "</table>\n",
       "<p>2943 rows × 3 columns</p>\n",
       "</div>"
      ],
      "text/plain": [
       "         gene   cc       value\n",
       "0        AARS   G1  0.92927504\n",
       "1       ASXL1   G1   0.3973243\n",
       "2       COX7B   G1   0.5904125\n",
       "3        CTGF   G1    0.570854\n",
       "4        DLX4   G1  0.13080521\n",
       "...       ...  ...         ...\n",
       "2938   ZRANB1  G2M  0.59947395\n",
       "2939  ZSCAN12  G2M   0.4679332\n",
       "2940  ZSCAN29  G2M  0.46437842\n",
       "2941     ZXDC  G2M  0.38617763\n",
       "2942   ZYG11A  G2M  0.23852451\n",
       "\n",
       "[2943 rows x 3 columns]"
      ]
     },
     "execution_count": 14,
     "metadata": {},
     "output_type": "execute_result"
    }
   ],
   "source": [
    "df_te = pd.DataFrame(np.concatenate((np.array(list(genes_coding)*3).reshape(-1,1), \n",
    "                                    np.repeat(['G1', 'G1S', 'G2M'], len(genes_coding)).reshape(-1,1),\n",
    "                                    np.array(TE_cc).reshape(-1,1)), \n",
    "                                axis=1), columns=['gene', 'cc', 'value'])\n",
    "df_te"
   ]
  },
  {
   "cell_type": "code",
   "execution_count": 15,
   "metadata": {},
   "outputs": [
    {
     "data": {
      "image/png": "[encoded data removed]",
      "text/plain": [
       "<Figure size 432x288 with 1 Axes>"
      ]
     },
     "metadata": {
      "needs_background": "light"
     },
     "output_type": "display_data"
    }
   ],
   "source": [
    "df_te['value'] = df_te['value'].astype(float)\n",
    "sns.violinplot(data=df_te, x='cc', y='value')\n",
    "sns.despine()\n",
    "# plt.savefig(rpath+'/figures/TE/cc.pdf')"
   ]
  },
  {
   "cell_type": "code",
   "execution_count": 16,
   "metadata": {},
   "outputs": [
    {
     "name": "stderr",
     "output_type": "stream",
     "text": [
      "C:\\Users\\wangk\\.conda\\envs\\connie\\lib\\site-packages\\seaborn\\_decorators.py:36: FutureWarning: Pass the following variables as keyword args: x, y. From version 0.12, the only valid positional argument will be `data`, and passing other arguments without an explicit keyword will result in an error or misinterpretation.\n",
      "  warnings.warn(\n",
      "C:\\Users\\wangk\\.conda\\envs\\connie\\lib\\site-packages\\seaborn\\_decorators.py:36: FutureWarning: Pass the following variables as keyword args: x, y. From version 0.12, the only valid positional argument will be `data`, and passing other arguments without an explicit keyword will result in an error or misinterpretation.\n",
      "  warnings.warn(\n",
      "C:\\Users\\wangk\\.conda\\envs\\connie\\lib\\site-packages\\seaborn\\_decorators.py:36: FutureWarning: Pass the following variables as keyword args: x, y. From version 0.12, the only valid positional argument will be `data`, and passing other arguments without an explicit keyword will result in an error or misinterpretation.\n",
      "  warnings.warn(\n"
     ]
    },
    {
     "data": {
      "image/png": "[encoded data removed]",
      "text/plain": [
       "<Figure size 720x216 with 3 Axes>"
      ]
     },
     "metadata": {
      "needs_background": "light"
     },
     "output_type": "display_data"
    }
   ],
   "source": [
    "df_te_ = pd.DataFrame(np.array(TE_cc).T, columns=['G1', 'G1S', 'G2M'])\n",
    "fig, ax = plt.subplots(1,3,figsize=(10,3))\n",
    "sns.scatterplot(df_te_['G1'], df_te_['G1S'], ax=ax[0])\n",
    "sns.scatterplot(df_te_['G1S'], df_te_['G2M'], ax=ax[1])\n",
    "sns.scatterplot(df_te_['G1'], df_te_['G2M'], ax=ax[2])\n",
    "plt.tight_layout()"
   ]
  }
 ],
 "metadata": {
  "interpreter": {
   "hash": "ce1f3e257072026c5357f08770dfb64cf9bcd5a1dc83b872a1eb70052fa28ec9"
  },
  "kernelspec": {
   "display_name": "Python 3.10.0 ('connie')",
   "language": "python",
   "name": "python3"
  },
  "language_info": {
   "codemirror_mode": {
    "name": "ipython",
    "version": 3
   },
   "file_extension": ".py",
   "mimetype": "text/x-python",
   "name": "python",
   "nbconvert_exporter": "python",
   "pygments_lexer": "ipython3",
   "version": "3.10.0"
  },
  "orig_nbformat": 4
 },
 "nbformat": 4,
 "nbformat_minor": 2
}
