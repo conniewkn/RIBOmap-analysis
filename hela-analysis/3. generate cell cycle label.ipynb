{
 "cells": [
  {
   "cell_type": "markdown",
   "id": "certain-patient",
   "metadata": {},
   "source": [
    "# Get cell cycle label\n",
    "\n",
    "2021-06-15"
   ]
  },
  {
   "cell_type": "code",
   "execution_count": null,
   "id": "statutory-jerusalem",
   "metadata": {},
   "outputs": [],
   "source": [
    "# Import Packages\n",
    "\n",
    "%load_ext autoreload\n",
    "%autoreload 2\n",
    " \n",
    "import os\n",
    "import warnings \n",
    "warnings.filterwarnings('ignore')\n",
    "import numpy as np\n",
    "import pandas as pd\n",
    "import scanpy as sc\n",
    "import seaborn as sns\n",
    "import matplotlib.pyplot as plt\n",
    "from anndata import AnnData\n",
    "\n",
    "# Customized packages\n",
    "import starmap.sc_util as su\n",
    "\n",
    "# test()"
   ]
  },
  {
   "cell_type": "markdown",
   "id": "german-criterion",
   "metadata": {},
   "source": [
    "## Input"
   ]
  },
  {
   "cell_type": "code",
   "execution_count": null,
   "id": "marine-growth",
   "metadata": {},
   "outputs": [],
   "source": [
    "# # Set path\n",
    "# base_path = 'Z:/Data/Analyzed/2021-07-09-Hu-HelaRIBOmap'\n",
    "# # Load adata\n",
    "# adata = sc.read_h5ad('Z:/Data/Analyzed/2021-07-09-Hu-HelaRIBOmap/output/2021-10-03-Hu-HelaRIBOmap-after-pp-300.h5ad')\n",
    "\n",
    "# Set path\n",
    "base_path = 'Z:/Data/Analyzed/2021-08-25-Hu-HelaSTARmap'\n",
    "# Load adata\n",
    "adata = sc.read_h5ad('Z:/Data/Analyzed/2021-08-25-Hu-HelaSTARmap/output/2021-10-03-Hu-HelaSTARmap-after-pp-300.h5ad')\n",
    "\n",
    "\n",
    "out_path = os.path.join(base_path, 'output')\n",
    "fig_path = os.path.join(base_path, 'figures')\n",
    "if not os.path.exists(fig_path):\n",
    "    os.mkdir(fig_path)\n",
    "\n",
    "adata"
   ]
  },
  {
   "cell_type": "code",
   "execution_count": null,
   "id": "looking-discipline",
   "metadata": {},
   "outputs": [],
   "source": [
    "# Assign dummy label\n",
    "adata.obs['phase_ref'] = 'NA'\n",
    "adata.obs['phase_new'] = 'NA'"
   ]
  },
  {
   "cell_type": "code",
   "execution_count": null,
   "id": "genuine-classroom",
   "metadata": {},
   "outputs": [],
   "source": [
    "# sc.pl.violin(adata, 'total_counts', groupby='sample', rotation=45)"
   ]
  },
  {
   "cell_type": "markdown",
   "id": "negative-student",
   "metadata": {},
   "source": [
    "## Subset"
   ]
  },
  {
   "cell_type": "code",
   "execution_count": null,
   "id": "optical-phase",
   "metadata": {},
   "outputs": [],
   "source": [
    "# Plot top 20 most expressed genes \n",
    "sc.pl.highest_expr_genes(adata, n_top=20)"
   ]
  },
  {
   "cell_type": "markdown",
   "id": "floral-assurance",
   "metadata": {},
   "source": [
    "## Preprocessing"
   ]
  },
  {
   "cell_type": "code",
   "execution_count": null,
   "id": "overhead-bahrain",
   "metadata": {},
   "outputs": [],
   "source": [
    "# Normalization scaling\n",
    "sc.pp.normalize_total(adata)\n",
    "sc.pp.log1p(adata)\n",
    "\n",
    "# adata.layers['norm'] = adata.X\n",
    "adata.raw = adata\n",
    "\n",
    "# Scale data to unit variance and zero mean\n",
    "sc.pp.scale(adata)\n",
    "# adata.layers['scaled'] = adata.X\n",
    "\n",
    "# Regress out total_counts\n",
    "sc.pp.regress_out(adata, 'total_counts')"
   ]
  },
  {
   "cell_type": "markdown",
   "id": "intensive-vaccine",
   "metadata": {},
   "source": [
    "## Cell cycle scoring"
   ]
  },
  {
   "cell_type": "code",
   "execution_count": null,
   "id": "expressed-buyer",
   "metadata": {},
   "outputs": [],
   "source": [
    "use_ref = True\n",
    "\n",
    "if use_ref:\n",
    "    # Load reference gene list \n",
    "    cell_cycle_genes = [x.strip() for x in open(os.path.join(base_path, 'gene_modules/regev_lab_cell_cycle_genes.txt'))]\n",
    "    s_genes = cell_cycle_genes[:43]\n",
    "    g2m_genes = cell_cycle_genes[43:]\n",
    "else:\n",
    "    # Load self defined markers \n",
    "    s_genes = pd.read_excel(os.path.join(base_path, 'gene_modules/cell_cycle_markers.xlsx'), sheet_name='G1_S', header=None)[0].to_list()\n",
    "    g2m_genes = pd.read_excel(os.path.join(base_path, 'gene_modules/cell_cycle_markers.xlsx'), sheet_name='G2_M', header=None)[0].to_list()\n",
    "    cell_cycle_genes = s_genes + g2m_genes"
   ]
  },
  {
   "cell_type": "code",
   "execution_count": null,
   "id": "fewer-parking",
   "metadata": {},
   "outputs": [],
   "source": [
    "# Get cell cycle genes \n",
    "missed_genes = [x for x in cell_cycle_genes if x not in adata.var_names]\n",
    "cell_cycle_genes = [x for x in cell_cycle_genes if x in adata.var_names]\n",
    "s_genes_true = [x for x in s_genes if x in adata.var_names]\n",
    "g2m_genes_true = [x for x in g2m_genes if x in adata.var_names]\n",
    "\n",
    "print(len(cell_cycle_genes), len(missed_genes))\n",
    "print(f\"G1/S genes: {len(s_genes)} - G2/M genes: {len(g2m_genes)}\")\n",
    "print(f\"G1/S genes in our dataest: {len(s_genes_true)} - G2/M genes in our dataest: {len(g2m_genes_true)}\")"
   ]
  },
  {
   "cell_type": "code",
   "execution_count": null,
   "id": "manual-swiss",
   "metadata": {},
   "outputs": [],
   "source": [
    "# Compute gene set score\n",
    "sc.tl.score_genes_cell_cycle(adata, s_genes=s_genes, g2m_genes=g2m_genes)\n",
    "adata_cc_genes = adata[:, cell_cycle_genes]\n",
    "sc.tl.pca(adata_cc_genes)\n",
    "sc.pl.pca_scatter(adata_cc_genes, color='phase')"
   ]
  },
  {
   "cell_type": "code",
   "execution_count": null,
   "id": "16c89ef3-e4e7-45fa-bb1f-3e2a8f96768a",
   "metadata": {},
   "outputs": [],
   "source": [
    "adata.obs['phase'].value_counts()"
   ]
  },
  {
   "cell_type": "markdown",
   "id": "3392e307-6626-4a63-9c90-2fd58255370c",
   "metadata": {},
   "source": [
    "## Clustering"
   ]
  },
  {
   "cell_type": "code",
   "execution_count": null,
   "id": "e2fbbb0e-2255-424b-b90f-c923f195fa2a",
   "metadata": {},
   "outputs": [],
   "source": [
    "sc.tl.pca(adata)\n",
    "sc.pl.pca_overview(adata)"
   ]
  },
  {
   "cell_type": "code",
   "execution_count": null,
   "id": "6807dd97-1328-494a-94e5-c9475fa897b7",
   "metadata": {},
   "outputs": [],
   "source": [
    "sc.pl.pca(adata, color='phase')"
   ]
  },
  {
   "cell_type": "code",
   "execution_count": null,
   "id": "1e1b818a-660a-4f57-b118-f5f09efea1b9",
   "metadata": {},
   "outputs": [],
   "source": [
    "# default tsne\n",
    "sc.tl.tsne(adata, perplexity=30, metric='cosine')\n",
    "sc.pl.tsne(adata, color='phase')"
   ]
  },
  {
   "cell_type": "code",
   "execution_count": null,
   "id": "b9e99052-8c82-4092-847d-52897231f19b",
   "metadata": {},
   "outputs": [],
   "source": [
    "sc.pp.neighbors(adata, n_neighbors=30, n_pcs=30)\n",
    "sc.tl.leiden(adata, resolution=.7)\n",
    "sc.pl.tsne(adata, color='leiden')"
   ]
  },
  {
   "cell_type": "code",
   "execution_count": null,
   "id": "e421bc2d-88cd-4063-9972-41c49d9ba7ed",
   "metadata": {},
   "outputs": [],
   "source": [
    "# default UMAP\n",
    "sc.tl.umap(adata)\n",
    "sc.pl.umap(adata, color='phase')"
   ]
  },
  {
   "cell_type": "code",
   "execution_count": null,
   "id": "55bc0157-85bf-4fdb-8a08-966a4aa1bb23",
   "metadata": {},
   "outputs": [],
   "source": [
    "sc.pp.neighbors(adata, n_neighbors=10, n_pcs=10)\n",
    "sc.tl.leiden(adata, resolution=.5)\n",
    "sc.pl.umap(adata, color='leiden')"
   ]
  },
  {
   "cell_type": "code",
   "execution_count": null,
   "id": "e9d6d14c-08da-435a-a4b4-c1f8d825c5d8",
   "metadata": {},
   "outputs": [],
   "source": [
    "g2m_genes_true"
   ]
  },
  {
   "cell_type": "code",
   "execution_count": null,
   "id": "bc47d53b-4539-4b90-a857-ef9561ad6a3c",
   "metadata": {},
   "outputs": [],
   "source": [
    "sc.pl.scatter(adata, x='leiden', y='MCM6', color='leiden', title='MCM6')"
   ]
  },
  {
   "cell_type": "code",
   "execution_count": null,
   "id": "59323a1d-6404-4ed7-9747-425ca3ad97c3",
   "metadata": {},
   "outputs": [],
   "source": [
    "sc.pl.violin(adata, keys='MCM6', groupby='leiden')"
   ]
  },
  {
   "cell_type": "code",
   "execution_count": null,
   "id": "0a4f000e-545c-41d5-bd52-a56b45e049c8",
   "metadata": {},
   "outputs": [],
   "source": [
    "sc.pl.umap(adata, color='S_score')"
   ]
  },
  {
   "cell_type": "code",
   "execution_count": null,
   "id": "c9c2ef1f-e9ff-450a-aef4-6a948c5405a3",
   "metadata": {},
   "outputs": [],
   "source": [
    "# default tsne pc=2\n",
    "sc.tl.tsne(adata_cc_genes, n_pcs=2)\n",
    "sc.pl.tsne(adata_cc_genes)"
   ]
  },
  {
   "cell_type": "code",
   "execution_count": null,
   "id": "b02d6577-7350-4ef9-aff0-4ef86eef6855",
   "metadata": {},
   "outputs": [],
   "source": [
    "# default tsne use_rep='X_pca'\n",
    "sc.tl.tsne(adata_cc_genes, use_rep='X_pca')\n",
    "sc.pl.tsne(adata_cc_genes, color='phase')"
   ]
  },
  {
   "cell_type": "code",
   "execution_count": null,
   "id": "98fd99af-090f-4e9d-9e29-3c5bdfd3fac8",
   "metadata": {},
   "outputs": [],
   "source": []
  },
  {
   "cell_type": "code",
   "execution_count": null,
   "id": "1dda6c09-47a9-4cb7-897e-bf039589086b",
   "metadata": {},
   "outputs": [],
   "source": [
    "# default tsne with cosine\n",
    "sc.tl.tsne(adata_cc_genes, metric='cosine', use_rep='X')\n",
    "sc.pl.tsne(adata_cc_genes, color='phase')"
   ]
  },
  {
   "cell_type": "markdown",
   "id": "conservative-violation",
   "metadata": {},
   "source": [
    "### Assign back to adata"
   ]
  },
  {
   "cell_type": "code",
   "execution_count": null,
   "id": "union-venezuela",
   "metadata": {},
   "outputs": [],
   "source": [
    "if use_ref:\n",
    "    current_column = 'phase_ref'\n",
    "    adata.obs.loc[:, current_column] = adata.obs['phase'].values\n",
    "else:\n",
    "    current_column = 'phase_new'\n",
    "    adata.obs.loc[:, current_column] = adata.obs['phase'].values"
   ]
  },
  {
   "cell_type": "code",
   "execution_count": null,
   "id": "compatible-asbestos",
   "metadata": {},
   "outputs": [],
   "source": [
    "confusion_matrix = pd.crosstab(adata.obs.loc[:, 'phase_ref'], adata.obs.loc[:, 'phase_new'], rownames=['Use reference list'], colnames=['Use our list'])\n",
    "sns.heatmap(confusion_matrix, annot=True, fmt='')\n",
    "plt.show()"
   ]
  },
  {
   "cell_type": "markdown",
   "id": "iraqi-comfort",
   "metadata": {},
   "source": [
    "## Output"
   ]
  },
  {
   "cell_type": "code",
   "execution_count": null,
   "id": "tropical-virtue",
   "metadata": {},
   "outputs": [],
   "source": [
    "adata.obs = adata.obs.iloc[:, :-3]"
   ]
  },
  {
   "cell_type": "code",
   "execution_count": null,
   "id": "engaged-engagement",
   "metadata": {},
   "outputs": [],
   "source": [
    "from datetime import datetime\n",
    "date = datetime.today().strftime('%Y-%m-%d')\n",
    "# adata.write_h5ad(f\"{base_path}/output/{date}-Hu-HelaRIBOmap-cc.h5ad\")\n",
    "adata.write_h5ad(f\"{base_path}/output/{date}-Hu-HelaSTARmap-cc.h5ad\")"
   ]
  },
  {
   "cell_type": "code",
   "execution_count": null,
   "id": "7c324b8d-fd40-494f-80fe-6ba055d3bd28",
   "metadata": {},
   "outputs": [],
   "source": []
  }
 ],
 "metadata": {
  "kernelspec": {
   "display_name": "Python 3 (ipykernel)",
   "language": "python",
   "name": "python3"
  },
  "language_info": {
   "codemirror_mode": {
    "name": "ipython",
    "version": 3
   },
   "file_extension": ".py",
   "mimetype": "text/x-python",
   "name": "python",
   "nbconvert_exporter": "python",
   "pygments_lexer": "ipython3",
   "version": "3.8.12"
  }
 },
 "nbformat": 4,
 "nbformat_minor": 5
}
